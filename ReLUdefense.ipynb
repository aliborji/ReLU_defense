{
  "nbformat": 4,
  "nbformat_minor": 0,
  "metadata": {
    "colab": {
      "name": "ReLUdefense.ipynb",
      "provenance": []
    },
    "kernelspec": {
      "name": "python3",
      "display_name": "Python 3"
    },
    "accelerator": "GPU",
    "widgets": {
      "application/vnd.jupyter.widget-state+json": {
        "9d624060672044a28f4913ecf559b504": {
          "model_module": "@jupyter-widgets/controls",
          "model_name": "HBoxModel",
          "state": {
            "_view_name": "HBoxView",
            "_dom_classes": [],
            "_model_name": "HBoxModel",
            "_view_module": "@jupyter-widgets/controls",
            "_model_module_version": "1.5.0",
            "_view_count": null,
            "_view_module_version": "1.5.0",
            "box_style": "",
            "layout": "IPY_MODEL_ff67d6e8633a42afb7ec9f74e45bc241",
            "_model_module": "@jupyter-widgets/controls",
            "children": [
              "IPY_MODEL_e9a39b43401d45be9871cb87040b22d6",
              "IPY_MODEL_e5e4135b0c7d4965b461100e973ced2e"
            ]
          }
        },
        "ff67d6e8633a42afb7ec9f74e45bc241": {
          "model_module": "@jupyter-widgets/base",
          "model_name": "LayoutModel",
          "state": {
            "_view_name": "LayoutView",
            "grid_template_rows": null,
            "right": null,
            "justify_content": null,
            "_view_module": "@jupyter-widgets/base",
            "overflow": null,
            "_model_module_version": "1.2.0",
            "_view_count": null,
            "flex_flow": null,
            "width": null,
            "min_width": null,
            "border": null,
            "align_items": null,
            "bottom": null,
            "_model_module": "@jupyter-widgets/base",
            "top": null,
            "grid_column": null,
            "overflow_y": null,
            "overflow_x": null,
            "grid_auto_flow": null,
            "grid_area": null,
            "grid_template_columns": null,
            "flex": null,
            "_model_name": "LayoutModel",
            "justify_items": null,
            "grid_row": null,
            "max_height": null,
            "align_content": null,
            "visibility": null,
            "align_self": null,
            "height": null,
            "min_height": null,
            "padding": null,
            "grid_auto_rows": null,
            "grid_gap": null,
            "max_width": null,
            "order": null,
            "_view_module_version": "1.2.0",
            "grid_template_areas": null,
            "object_position": null,
            "object_fit": null,
            "grid_auto_columns": null,
            "margin": null,
            "display": null,
            "left": null
          }
        },
        "e9a39b43401d45be9871cb87040b22d6": {
          "model_module": "@jupyter-widgets/controls",
          "model_name": "IntProgressModel",
          "state": {
            "_view_name": "ProgressView",
            "style": "IPY_MODEL_ecaacae2df5743debc5c525338b85210",
            "_dom_classes": [],
            "description": "",
            "_model_name": "IntProgressModel",
            "bar_style": "info",
            "max": 1,
            "_view_module": "@jupyter-widgets/controls",
            "_model_module_version": "1.5.0",
            "value": 1,
            "_view_count": null,
            "_view_module_version": "1.5.0",
            "orientation": "horizontal",
            "min": 0,
            "description_tooltip": null,
            "_model_module": "@jupyter-widgets/controls",
            "layout": "IPY_MODEL_df3b867fa39d420dbca0071d55774520"
          }
        },
        "e5e4135b0c7d4965b461100e973ced2e": {
          "model_module": "@jupyter-widgets/controls",
          "model_name": "HTMLModel",
          "state": {
            "_view_name": "HTMLView",
            "style": "IPY_MODEL_572310653e6f4bcc8e7da5d6d4010b4f",
            "_dom_classes": [],
            "description": "",
            "_model_name": "HTMLModel",
            "placeholder": "​",
            "_view_module": "@jupyter-widgets/controls",
            "_model_module_version": "1.5.0",
            "value": " 9920512/? [00:20&lt;00:00, 11669831.67it/s]",
            "_view_count": null,
            "_view_module_version": "1.5.0",
            "description_tooltip": null,
            "_model_module": "@jupyter-widgets/controls",
            "layout": "IPY_MODEL_88c908f48c5542908aa1a96de927a553"
          }
        },
        "ecaacae2df5743debc5c525338b85210": {
          "model_module": "@jupyter-widgets/controls",
          "model_name": "ProgressStyleModel",
          "state": {
            "_view_name": "StyleView",
            "_model_name": "ProgressStyleModel",
            "description_width": "initial",
            "_view_module": "@jupyter-widgets/base",
            "_model_module_version": "1.5.0",
            "_view_count": null,
            "_view_module_version": "1.2.0",
            "bar_color": null,
            "_model_module": "@jupyter-widgets/controls"
          }
        },
        "df3b867fa39d420dbca0071d55774520": {
          "model_module": "@jupyter-widgets/base",
          "model_name": "LayoutModel",
          "state": {
            "_view_name": "LayoutView",
            "grid_template_rows": null,
            "right": null,
            "justify_content": null,
            "_view_module": "@jupyter-widgets/base",
            "overflow": null,
            "_model_module_version": "1.2.0",
            "_view_count": null,
            "flex_flow": null,
            "width": null,
            "min_width": null,
            "border": null,
            "align_items": null,
            "bottom": null,
            "_model_module": "@jupyter-widgets/base",
            "top": null,
            "grid_column": null,
            "overflow_y": null,
            "overflow_x": null,
            "grid_auto_flow": null,
            "grid_area": null,
            "grid_template_columns": null,
            "flex": null,
            "_model_name": "LayoutModel",
            "justify_items": null,
            "grid_row": null,
            "max_height": null,
            "align_content": null,
            "visibility": null,
            "align_self": null,
            "height": null,
            "min_height": null,
            "padding": null,
            "grid_auto_rows": null,
            "grid_gap": null,
            "max_width": null,
            "order": null,
            "_view_module_version": "1.2.0",
            "grid_template_areas": null,
            "object_position": null,
            "object_fit": null,
            "grid_auto_columns": null,
            "margin": null,
            "display": null,
            "left": null
          }
        },
        "572310653e6f4bcc8e7da5d6d4010b4f": {
          "model_module": "@jupyter-widgets/controls",
          "model_name": "DescriptionStyleModel",
          "state": {
            "_view_name": "StyleView",
            "_model_name": "DescriptionStyleModel",
            "description_width": "",
            "_view_module": "@jupyter-widgets/base",
            "_model_module_version": "1.5.0",
            "_view_count": null,
            "_view_module_version": "1.2.0",
            "_model_module": "@jupyter-widgets/controls"
          }
        },
        "88c908f48c5542908aa1a96de927a553": {
          "model_module": "@jupyter-widgets/base",
          "model_name": "LayoutModel",
          "state": {
            "_view_name": "LayoutView",
            "grid_template_rows": null,
            "right": null,
            "justify_content": null,
            "_view_module": "@jupyter-widgets/base",
            "overflow": null,
            "_model_module_version": "1.2.0",
            "_view_count": null,
            "flex_flow": null,
            "width": null,
            "min_width": null,
            "border": null,
            "align_items": null,
            "bottom": null,
            "_model_module": "@jupyter-widgets/base",
            "top": null,
            "grid_column": null,
            "overflow_y": null,
            "overflow_x": null,
            "grid_auto_flow": null,
            "grid_area": null,
            "grid_template_columns": null,
            "flex": null,
            "_model_name": "LayoutModel",
            "justify_items": null,
            "grid_row": null,
            "max_height": null,
            "align_content": null,
            "visibility": null,
            "align_self": null,
            "height": null,
            "min_height": null,
            "padding": null,
            "grid_auto_rows": null,
            "grid_gap": null,
            "max_width": null,
            "order": null,
            "_view_module_version": "1.2.0",
            "grid_template_areas": null,
            "object_position": null,
            "object_fit": null,
            "grid_auto_columns": null,
            "margin": null,
            "display": null,
            "left": null
          }
        },
        "bcd4cca1794a493aa2f01a9d1874ad28": {
          "model_module": "@jupyter-widgets/controls",
          "model_name": "HBoxModel",
          "state": {
            "_view_name": "HBoxView",
            "_dom_classes": [],
            "_model_name": "HBoxModel",
            "_view_module": "@jupyter-widgets/controls",
            "_model_module_version": "1.5.0",
            "_view_count": null,
            "_view_module_version": "1.5.0",
            "box_style": "",
            "layout": "IPY_MODEL_1073cfe0529640798ff01cdc3d56bc3a",
            "_model_module": "@jupyter-widgets/controls",
            "children": [
              "IPY_MODEL_3d8e12cb3636462aa709dea0d9d6c663",
              "IPY_MODEL_f861e095388b406bbf375a0a14837ffa"
            ]
          }
        },
        "1073cfe0529640798ff01cdc3d56bc3a": {
          "model_module": "@jupyter-widgets/base",
          "model_name": "LayoutModel",
          "state": {
            "_view_name": "LayoutView",
            "grid_template_rows": null,
            "right": null,
            "justify_content": null,
            "_view_module": "@jupyter-widgets/base",
            "overflow": null,
            "_model_module_version": "1.2.0",
            "_view_count": null,
            "flex_flow": null,
            "width": null,
            "min_width": null,
            "border": null,
            "align_items": null,
            "bottom": null,
            "_model_module": "@jupyter-widgets/base",
            "top": null,
            "grid_column": null,
            "overflow_y": null,
            "overflow_x": null,
            "grid_auto_flow": null,
            "grid_area": null,
            "grid_template_columns": null,
            "flex": null,
            "_model_name": "LayoutModel",
            "justify_items": null,
            "grid_row": null,
            "max_height": null,
            "align_content": null,
            "visibility": null,
            "align_self": null,
            "height": null,
            "min_height": null,
            "padding": null,
            "grid_auto_rows": null,
            "grid_gap": null,
            "max_width": null,
            "order": null,
            "_view_module_version": "1.2.0",
            "grid_template_areas": null,
            "object_position": null,
            "object_fit": null,
            "grid_auto_columns": null,
            "margin": null,
            "display": null,
            "left": null
          }
        },
        "3d8e12cb3636462aa709dea0d9d6c663": {
          "model_module": "@jupyter-widgets/controls",
          "model_name": "IntProgressModel",
          "state": {
            "_view_name": "ProgressView",
            "style": "IPY_MODEL_2c99c559999c445387468aa8eda4846a",
            "_dom_classes": [],
            "description": "",
            "_model_name": "IntProgressModel",
            "bar_style": "success",
            "max": 1,
            "_view_module": "@jupyter-widgets/controls",
            "_model_module_version": "1.5.0",
            "value": 1,
            "_view_count": null,
            "_view_module_version": "1.5.0",
            "orientation": "horizontal",
            "min": 0,
            "description_tooltip": null,
            "_model_module": "@jupyter-widgets/controls",
            "layout": "IPY_MODEL_e2ba0bcc0dd34becadca8334e694ea38"
          }
        },
        "f861e095388b406bbf375a0a14837ffa": {
          "model_module": "@jupyter-widgets/controls",
          "model_name": "HTMLModel",
          "state": {
            "_view_name": "HTMLView",
            "style": "IPY_MODEL_445016ec66ba4b49b0b1bbb896ad0200",
            "_dom_classes": [],
            "description": "",
            "_model_name": "HTMLModel",
            "placeholder": "​",
            "_view_module": "@jupyter-widgets/controls",
            "_model_module_version": "1.5.0",
            "value": " 32768/? [00:00&lt;00:00, 78012.83it/s]",
            "_view_count": null,
            "_view_module_version": "1.5.0",
            "description_tooltip": null,
            "_model_module": "@jupyter-widgets/controls",
            "layout": "IPY_MODEL_d67c4b184e80481999001cec83bab8c0"
          }
        },
        "2c99c559999c445387468aa8eda4846a": {
          "model_module": "@jupyter-widgets/controls",
          "model_name": "ProgressStyleModel",
          "state": {
            "_view_name": "StyleView",
            "_model_name": "ProgressStyleModel",
            "description_width": "initial",
            "_view_module": "@jupyter-widgets/base",
            "_model_module_version": "1.5.0",
            "_view_count": null,
            "_view_module_version": "1.2.0",
            "bar_color": null,
            "_model_module": "@jupyter-widgets/controls"
          }
        },
        "e2ba0bcc0dd34becadca8334e694ea38": {
          "model_module": "@jupyter-widgets/base",
          "model_name": "LayoutModel",
          "state": {
            "_view_name": "LayoutView",
            "grid_template_rows": null,
            "right": null,
            "justify_content": null,
            "_view_module": "@jupyter-widgets/base",
            "overflow": null,
            "_model_module_version": "1.2.0",
            "_view_count": null,
            "flex_flow": null,
            "width": null,
            "min_width": null,
            "border": null,
            "align_items": null,
            "bottom": null,
            "_model_module": "@jupyter-widgets/base",
            "top": null,
            "grid_column": null,
            "overflow_y": null,
            "overflow_x": null,
            "grid_auto_flow": null,
            "grid_area": null,
            "grid_template_columns": null,
            "flex": null,
            "_model_name": "LayoutModel",
            "justify_items": null,
            "grid_row": null,
            "max_height": null,
            "align_content": null,
            "visibility": null,
            "align_self": null,
            "height": null,
            "min_height": null,
            "padding": null,
            "grid_auto_rows": null,
            "grid_gap": null,
            "max_width": null,
            "order": null,
            "_view_module_version": "1.2.0",
            "grid_template_areas": null,
            "object_position": null,
            "object_fit": null,
            "grid_auto_columns": null,
            "margin": null,
            "display": null,
            "left": null
          }
        },
        "445016ec66ba4b49b0b1bbb896ad0200": {
          "model_module": "@jupyter-widgets/controls",
          "model_name": "DescriptionStyleModel",
          "state": {
            "_view_name": "StyleView",
            "_model_name": "DescriptionStyleModel",
            "description_width": "",
            "_view_module": "@jupyter-widgets/base",
            "_model_module_version": "1.5.0",
            "_view_count": null,
            "_view_module_version": "1.2.0",
            "_model_module": "@jupyter-widgets/controls"
          }
        },
        "d67c4b184e80481999001cec83bab8c0": {
          "model_module": "@jupyter-widgets/base",
          "model_name": "LayoutModel",
          "state": {
            "_view_name": "LayoutView",
            "grid_template_rows": null,
            "right": null,
            "justify_content": null,
            "_view_module": "@jupyter-widgets/base",
            "overflow": null,
            "_model_module_version": "1.2.0",
            "_view_count": null,
            "flex_flow": null,
            "width": null,
            "min_width": null,
            "border": null,
            "align_items": null,
            "bottom": null,
            "_model_module": "@jupyter-widgets/base",
            "top": null,
            "grid_column": null,
            "overflow_y": null,
            "overflow_x": null,
            "grid_auto_flow": null,
            "grid_area": null,
            "grid_template_columns": null,
            "flex": null,
            "_model_name": "LayoutModel",
            "justify_items": null,
            "grid_row": null,
            "max_height": null,
            "align_content": null,
            "visibility": null,
            "align_self": null,
            "height": null,
            "min_height": null,
            "padding": null,
            "grid_auto_rows": null,
            "grid_gap": null,
            "max_width": null,
            "order": null,
            "_view_module_version": "1.2.0",
            "grid_template_areas": null,
            "object_position": null,
            "object_fit": null,
            "grid_auto_columns": null,
            "margin": null,
            "display": null,
            "left": null
          }
        },
        "7232051e76ac42f2bcc4b89023b85145": {
          "model_module": "@jupyter-widgets/controls",
          "model_name": "HBoxModel",
          "state": {
            "_view_name": "HBoxView",
            "_dom_classes": [],
            "_model_name": "HBoxModel",
            "_view_module": "@jupyter-widgets/controls",
            "_model_module_version": "1.5.0",
            "_view_count": null,
            "_view_module_version": "1.5.0",
            "box_style": "",
            "layout": "IPY_MODEL_90f787e0859542208f1ced03f95890c1",
            "_model_module": "@jupyter-widgets/controls",
            "children": [
              "IPY_MODEL_6dad98424b4e499e9241e78c9752c6d8",
              "IPY_MODEL_bf4a9fbe43cd471bb9e0ebd8e654f08c"
            ]
          }
        },
        "90f787e0859542208f1ced03f95890c1": {
          "model_module": "@jupyter-widgets/base",
          "model_name": "LayoutModel",
          "state": {
            "_view_name": "LayoutView",
            "grid_template_rows": null,
            "right": null,
            "justify_content": null,
            "_view_module": "@jupyter-widgets/base",
            "overflow": null,
            "_model_module_version": "1.2.0",
            "_view_count": null,
            "flex_flow": null,
            "width": null,
            "min_width": null,
            "border": null,
            "align_items": null,
            "bottom": null,
            "_model_module": "@jupyter-widgets/base",
            "top": null,
            "grid_column": null,
            "overflow_y": null,
            "overflow_x": null,
            "grid_auto_flow": null,
            "grid_area": null,
            "grid_template_columns": null,
            "flex": null,
            "_model_name": "LayoutModel",
            "justify_items": null,
            "grid_row": null,
            "max_height": null,
            "align_content": null,
            "visibility": null,
            "align_self": null,
            "height": null,
            "min_height": null,
            "padding": null,
            "grid_auto_rows": null,
            "grid_gap": null,
            "max_width": null,
            "order": null,
            "_view_module_version": "1.2.0",
            "grid_template_areas": null,
            "object_position": null,
            "object_fit": null,
            "grid_auto_columns": null,
            "margin": null,
            "display": null,
            "left": null
          }
        },
        "6dad98424b4e499e9241e78c9752c6d8": {
          "model_module": "@jupyter-widgets/controls",
          "model_name": "IntProgressModel",
          "state": {
            "_view_name": "ProgressView",
            "style": "IPY_MODEL_0f0af20bbe714f299dd7d0e984a72985",
            "_dom_classes": [],
            "description": "",
            "_model_name": "IntProgressModel",
            "bar_style": "success",
            "max": 1,
            "_view_module": "@jupyter-widgets/controls",
            "_model_module_version": "1.5.0",
            "value": 1,
            "_view_count": null,
            "_view_module_version": "1.5.0",
            "orientation": "horizontal",
            "min": 0,
            "description_tooltip": null,
            "_model_module": "@jupyter-widgets/controls",
            "layout": "IPY_MODEL_c03b295a47334bb19e042d8558c01eec"
          }
        },
        "bf4a9fbe43cd471bb9e0ebd8e654f08c": {
          "model_module": "@jupyter-widgets/controls",
          "model_name": "HTMLModel",
          "state": {
            "_view_name": "HTMLView",
            "style": "IPY_MODEL_d8b2620136fc43b08347ef8bea681f63",
            "_dom_classes": [],
            "description": "",
            "_model_name": "HTMLModel",
            "placeholder": "​",
            "_view_module": "@jupyter-widgets/controls",
            "_model_module_version": "1.5.0",
            "value": " 1654784/? [00:00&lt;00:00, 5611903.17it/s]",
            "_view_count": null,
            "_view_module_version": "1.5.0",
            "description_tooltip": null,
            "_model_module": "@jupyter-widgets/controls",
            "layout": "IPY_MODEL_5c8c68a584be4695a76972967e869819"
          }
        },
        "0f0af20bbe714f299dd7d0e984a72985": {
          "model_module": "@jupyter-widgets/controls",
          "model_name": "ProgressStyleModel",
          "state": {
            "_view_name": "StyleView",
            "_model_name": "ProgressStyleModel",
            "description_width": "initial",
            "_view_module": "@jupyter-widgets/base",
            "_model_module_version": "1.5.0",
            "_view_count": null,
            "_view_module_version": "1.2.0",
            "bar_color": null,
            "_model_module": "@jupyter-widgets/controls"
          }
        },
        "c03b295a47334bb19e042d8558c01eec": {
          "model_module": "@jupyter-widgets/base",
          "model_name": "LayoutModel",
          "state": {
            "_view_name": "LayoutView",
            "grid_template_rows": null,
            "right": null,
            "justify_content": null,
            "_view_module": "@jupyter-widgets/base",
            "overflow": null,
            "_model_module_version": "1.2.0",
            "_view_count": null,
            "flex_flow": null,
            "width": null,
            "min_width": null,
            "border": null,
            "align_items": null,
            "bottom": null,
            "_model_module": "@jupyter-widgets/base",
            "top": null,
            "grid_column": null,
            "overflow_y": null,
            "overflow_x": null,
            "grid_auto_flow": null,
            "grid_area": null,
            "grid_template_columns": null,
            "flex": null,
            "_model_name": "LayoutModel",
            "justify_items": null,
            "grid_row": null,
            "max_height": null,
            "align_content": null,
            "visibility": null,
            "align_self": null,
            "height": null,
            "min_height": null,
            "padding": null,
            "grid_auto_rows": null,
            "grid_gap": null,
            "max_width": null,
            "order": null,
            "_view_module_version": "1.2.0",
            "grid_template_areas": null,
            "object_position": null,
            "object_fit": null,
            "grid_auto_columns": null,
            "margin": null,
            "display": null,
            "left": null
          }
        },
        "d8b2620136fc43b08347ef8bea681f63": {
          "model_module": "@jupyter-widgets/controls",
          "model_name": "DescriptionStyleModel",
          "state": {
            "_view_name": "StyleView",
            "_model_name": "DescriptionStyleModel",
            "description_width": "",
            "_view_module": "@jupyter-widgets/base",
            "_model_module_version": "1.5.0",
            "_view_count": null,
            "_view_module_version": "1.2.0",
            "_model_module": "@jupyter-widgets/controls"
          }
        },
        "5c8c68a584be4695a76972967e869819": {
          "model_module": "@jupyter-widgets/base",
          "model_name": "LayoutModel",
          "state": {
            "_view_name": "LayoutView",
            "grid_template_rows": null,
            "right": null,
            "justify_content": null,
            "_view_module": "@jupyter-widgets/base",
            "overflow": null,
            "_model_module_version": "1.2.0",
            "_view_count": null,
            "flex_flow": null,
            "width": null,
            "min_width": null,
            "border": null,
            "align_items": null,
            "bottom": null,
            "_model_module": "@jupyter-widgets/base",
            "top": null,
            "grid_column": null,
            "overflow_y": null,
            "overflow_x": null,
            "grid_auto_flow": null,
            "grid_area": null,
            "grid_template_columns": null,
            "flex": null,
            "_model_name": "LayoutModel",
            "justify_items": null,
            "grid_row": null,
            "max_height": null,
            "align_content": null,
            "visibility": null,
            "align_self": null,
            "height": null,
            "min_height": null,
            "padding": null,
            "grid_auto_rows": null,
            "grid_gap": null,
            "max_width": null,
            "order": null,
            "_view_module_version": "1.2.0",
            "grid_template_areas": null,
            "object_position": null,
            "object_fit": null,
            "grid_auto_columns": null,
            "margin": null,
            "display": null,
            "left": null
          }
        },
        "a800fbbe1d0143308a5cbe54b00697ab": {
          "model_module": "@jupyter-widgets/controls",
          "model_name": "HBoxModel",
          "state": {
            "_view_name": "HBoxView",
            "_dom_classes": [],
            "_model_name": "HBoxModel",
            "_view_module": "@jupyter-widgets/controls",
            "_model_module_version": "1.5.0",
            "_view_count": null,
            "_view_module_version": "1.5.0",
            "box_style": "",
            "layout": "IPY_MODEL_a2e0ce011c4943579bb22dc42d185fe9",
            "_model_module": "@jupyter-widgets/controls",
            "children": [
              "IPY_MODEL_88d6d5ce50bf494281700c33f39cdfc1",
              "IPY_MODEL_ed289577ff534ca1b4039baa4e495ead"
            ]
          }
        },
        "a2e0ce011c4943579bb22dc42d185fe9": {
          "model_module": "@jupyter-widgets/base",
          "model_name": "LayoutModel",
          "state": {
            "_view_name": "LayoutView",
            "grid_template_rows": null,
            "right": null,
            "justify_content": null,
            "_view_module": "@jupyter-widgets/base",
            "overflow": null,
            "_model_module_version": "1.2.0",
            "_view_count": null,
            "flex_flow": null,
            "width": null,
            "min_width": null,
            "border": null,
            "align_items": null,
            "bottom": null,
            "_model_module": "@jupyter-widgets/base",
            "top": null,
            "grid_column": null,
            "overflow_y": null,
            "overflow_x": null,
            "grid_auto_flow": null,
            "grid_area": null,
            "grid_template_columns": null,
            "flex": null,
            "_model_name": "LayoutModel",
            "justify_items": null,
            "grid_row": null,
            "max_height": null,
            "align_content": null,
            "visibility": null,
            "align_self": null,
            "height": null,
            "min_height": null,
            "padding": null,
            "grid_auto_rows": null,
            "grid_gap": null,
            "max_width": null,
            "order": null,
            "_view_module_version": "1.2.0",
            "grid_template_areas": null,
            "object_position": null,
            "object_fit": null,
            "grid_auto_columns": null,
            "margin": null,
            "display": null,
            "left": null
          }
        },
        "88d6d5ce50bf494281700c33f39cdfc1": {
          "model_module": "@jupyter-widgets/controls",
          "model_name": "IntProgressModel",
          "state": {
            "_view_name": "ProgressView",
            "style": "IPY_MODEL_34e235c6a639440ca4e45c430548761c",
            "_dom_classes": [],
            "description": "  0%",
            "_model_name": "IntProgressModel",
            "bar_style": "info",
            "max": 1,
            "_view_module": "@jupyter-widgets/controls",
            "_model_module_version": "1.5.0",
            "value": 0,
            "_view_count": null,
            "_view_module_version": "1.5.0",
            "orientation": "horizontal",
            "min": 0,
            "description_tooltip": null,
            "_model_module": "@jupyter-widgets/controls",
            "layout": "IPY_MODEL_24d95254e5af4aa883ed2e700e3bc332"
          }
        },
        "ed289577ff534ca1b4039baa4e495ead": {
          "model_module": "@jupyter-widgets/controls",
          "model_name": "HTMLModel",
          "state": {
            "_view_name": "HTMLView",
            "style": "IPY_MODEL_200157973efd459799e929fa58bda014",
            "_dom_classes": [],
            "description": "",
            "_model_name": "HTMLModel",
            "placeholder": "​",
            "_view_module": "@jupyter-widgets/controls",
            "_model_module_version": "1.5.0",
            "value": " 0/4542 [00:00&lt;?, ?it/s]",
            "_view_count": null,
            "_view_module_version": "1.5.0",
            "description_tooltip": null,
            "_model_module": "@jupyter-widgets/controls",
            "layout": "IPY_MODEL_a8410f60c3384ae1a6aac78d143ef570"
          }
        },
        "34e235c6a639440ca4e45c430548761c": {
          "model_module": "@jupyter-widgets/controls",
          "model_name": "ProgressStyleModel",
          "state": {
            "_view_name": "StyleView",
            "_model_name": "ProgressStyleModel",
            "description_width": "initial",
            "_view_module": "@jupyter-widgets/base",
            "_model_module_version": "1.5.0",
            "_view_count": null,
            "_view_module_version": "1.2.0",
            "bar_color": null,
            "_model_module": "@jupyter-widgets/controls"
          }
        },
        "24d95254e5af4aa883ed2e700e3bc332": {
          "model_module": "@jupyter-widgets/base",
          "model_name": "LayoutModel",
          "state": {
            "_view_name": "LayoutView",
            "grid_template_rows": null,
            "right": null,
            "justify_content": null,
            "_view_module": "@jupyter-widgets/base",
            "overflow": null,
            "_model_module_version": "1.2.0",
            "_view_count": null,
            "flex_flow": null,
            "width": null,
            "min_width": null,
            "border": null,
            "align_items": null,
            "bottom": null,
            "_model_module": "@jupyter-widgets/base",
            "top": null,
            "grid_column": null,
            "overflow_y": null,
            "overflow_x": null,
            "grid_auto_flow": null,
            "grid_area": null,
            "grid_template_columns": null,
            "flex": null,
            "_model_name": "LayoutModel",
            "justify_items": null,
            "grid_row": null,
            "max_height": null,
            "align_content": null,
            "visibility": null,
            "align_self": null,
            "height": null,
            "min_height": null,
            "padding": null,
            "grid_auto_rows": null,
            "grid_gap": null,
            "max_width": null,
            "order": null,
            "_view_module_version": "1.2.0",
            "grid_template_areas": null,
            "object_position": null,
            "object_fit": null,
            "grid_auto_columns": null,
            "margin": null,
            "display": null,
            "left": null
          }
        },
        "200157973efd459799e929fa58bda014": {
          "model_module": "@jupyter-widgets/controls",
          "model_name": "DescriptionStyleModel",
          "state": {
            "_view_name": "StyleView",
            "_model_name": "DescriptionStyleModel",
            "description_width": "",
            "_view_module": "@jupyter-widgets/base",
            "_model_module_version": "1.5.0",
            "_view_count": null,
            "_view_module_version": "1.2.0",
            "_model_module": "@jupyter-widgets/controls"
          }
        },
        "a8410f60c3384ae1a6aac78d143ef570": {
          "model_module": "@jupyter-widgets/base",
          "model_name": "LayoutModel",
          "state": {
            "_view_name": "LayoutView",
            "grid_template_rows": null,
            "right": null,
            "justify_content": null,
            "_view_module": "@jupyter-widgets/base",
            "overflow": null,
            "_model_module_version": "1.2.0",
            "_view_count": null,
            "flex_flow": null,
            "width": null,
            "min_width": null,
            "border": null,
            "align_items": null,
            "bottom": null,
            "_model_module": "@jupyter-widgets/base",
            "top": null,
            "grid_column": null,
            "overflow_y": null,
            "overflow_x": null,
            "grid_auto_flow": null,
            "grid_area": null,
            "grid_template_columns": null,
            "flex": null,
            "_model_name": "LayoutModel",
            "justify_items": null,
            "grid_row": null,
            "max_height": null,
            "align_content": null,
            "visibility": null,
            "align_self": null,
            "height": null,
            "min_height": null,
            "padding": null,
            "grid_auto_rows": null,
            "grid_gap": null,
            "max_width": null,
            "order": null,
            "_view_module_version": "1.2.0",
            "grid_template_areas": null,
            "object_position": null,
            "object_fit": null,
            "grid_auto_columns": null,
            "margin": null,
            "display": null,
            "left": null
          }
        }
      }
    }
  },
  "cells": [
    {
      "cell_type": "code",
      "metadata": {
        "id": "hYUA6YiKChHb",
        "colab_type": "code",
        "outputId": "fe354555-87fd-4cbd-db0d-585f1de6e531",
        "colab": {
          "base_uri": "https://localhost:8080/",
          "height": 85
        }
      },
      "source": [
        "!pip install torchattacks\n"
      ],
      "execution_count": 0,
      "outputs": [
        {
          "output_type": "stream",
          "text": [
            "Collecting torchattacks\n",
            "  Downloading https://files.pythonhosted.org/packages/3a/15/43d6010be0ef23ce21633749dae17cc264e8fbae1590c941c0b66ab6de50/torchattacks-1.3-py3-none-any.whl\n",
            "Installing collected packages: torchattacks\n",
            "Successfully installed torchattacks-1.3\n"
          ],
          "name": "stdout"
        }
      ]
    },
    {
      "cell_type": "code",
      "metadata": {
        "id": "Qdar0lu8K9XC",
        "colab_type": "code",
        "colab": {}
      },
      "source": [
        "from __future__ import print_function\n",
        "import torch\n",
        "import torch.nn as nn\n",
        "import torch.nn.functional as F\n",
        "import torch.optim as optim\n",
        "from torchvision import datasets, transforms\n",
        "import numpy as np\n",
        "import matplotlib.pyplot as plt\n",
        "import torchattacks"
      ],
      "execution_count": 0,
      "outputs": []
    },
    {
      "cell_type": "code",
      "metadata": {
        "id": "_P5HntXqMZd3",
        "colab_type": "code",
        "colab": {}
      },
      "source": [
        "# from torchattacks import RPGD"
      ],
      "execution_count": 0,
      "outputs": []
    },
    {
      "cell_type": "code",
      "metadata": {
        "id": "ryOUgVa5C4bO",
        "colab_type": "code",
        "colab": {}
      },
      "source": [
        "epsilons = [0, .05, .1, .15, .2, .25, .3]\n",
        "pretrained_model = '/gdrive/My Drive/Tmp/lenet_mnist_model.pth' #pretrained_model = \"lenet_mnist_model.pth\"\n",
        "use_cuda=True"
      ],
      "execution_count": 0,
      "outputs": []
    },
    {
      "cell_type": "code",
      "metadata": {
        "id": "6qNIkiFQDDCo",
        "colab_type": "code",
        "outputId": "e92abade-01f7-4792-c4c2-36bfcd8fb2b4",
        "colab": {
          "base_uri": "https://localhost:8080/",
          "height": 122
        }
      },
      "source": [
        "from google.colab import drive\n",
        "drive.mount('/gdrive')\n"
      ],
      "execution_count": 0,
      "outputs": [
        {
          "output_type": "stream",
          "text": [
            "Go to this URL in a browser: https://accounts.google.com/o/oauth2/auth?client_id=947318989803-6bn6qk8qdgf4n4g3pfee6491hc0brc4i.apps.googleusercontent.com&redirect_uri=urn%3aietf%3awg%3aoauth%3a2.0%3aoob&response_type=code&scope=email%20https%3a%2f%2fwww.googleapis.com%2fauth%2fdocs.test%20https%3a%2f%2fwww.googleapis.com%2fauth%2fdrive%20https%3a%2f%2fwww.googleapis.com%2fauth%2fdrive.photos.readonly%20https%3a%2f%2fwww.googleapis.com%2fauth%2fpeopleapi.readonly\n",
            "\n",
            "Enter your authorization code:\n",
            "··········\n",
            "Mounted at /gdrive\n"
          ],
          "name": "stdout"
        }
      ]
    },
    {
      "cell_type": "code",
      "metadata": {
        "id": "_heP-88cDD-c",
        "colab_type": "code",
        "colab": {}
      },
      "source": [
        "# simply define a silu function\n",
        "def srelu(input, slope):\n",
        "    return slope * F.relu(input)\n",
        "\n",
        "class SReLU(nn.Module):\n",
        "    def __init__(self):\n",
        "        super().__init__() # init the base class\n",
        "\n",
        "    def forward(self, input, slope):\n",
        "        return srelu(input, slope) # simply apply already implemented SiLU"
      ],
      "execution_count": 0,
      "outputs": []
    },
    {
      "cell_type": "code",
      "metadata": {
        "id": "2-TWvgBuCwAr",
        "colab_type": "code",
        "outputId": "41fde067-c0e2-41da-8045-5fcd36d9966a",
        "colab": {
          "base_uri": "https://localhost:8080/",
          "height": 34
        }
      },
      "source": [
        "# LeNet Model definition\n",
        "class NetTest(nn.Module):\n",
        "    def __init__(self, slope):\n",
        "        super(NetTest, self).__init__()\n",
        "        self.conv1 = nn.Conv2d(1, 10, kernel_size=5)\n",
        "        self.conv2 = nn.Conv2d(10, 20, kernel_size=5)\n",
        "        self.conv2_drop = nn.Dropout2d()\n",
        "        self.fc1 = nn.Linear(320, 50)\n",
        "        self.fc2 = nn.Linear(50, 10)\n",
        "        self.slope = slope\n",
        "\n",
        "    def forward(self, x):\n",
        "#         s = torch.tensor(.7, requires_grad=False)        \n",
        "        x = srelu(F.max_pool2d(self.conv1(x), 2), self.slope)\n",
        "        x = srelu(F.max_pool2d(self.conv2_drop(self.conv2(x)), 2), self.slope)    \n",
        "#         x = F.relu(F.max_pool2d(self.conv2_drop(self.conv2(x)), 2))\n",
        "        x = x.view(-1, 320)\n",
        "        x = srelu(self.fc1(x), self.slope)\n",
        "#         x = F.relu(self.fc1(x))        \n",
        "        x = F.dropout(x, training=self.training)\n",
        "        x = self.fc2(x)\n",
        "        # return F.log_softmax(x, dim=1) \n",
        "        # cross entroy does softmax ; nll_loss needs softmax that is why we should first do logsoftmax. # VERY IMPORTATNT !!!!!!!!!!!!!!!!!!!!\n",
        "        return x \n",
        "\n",
        "\n",
        "# # MNIST Test dataset and dataloader declaration\n",
        "# test_loader = torch.utils.data.DataLoader(\n",
        "#     datasets.MNIST('../data', train=False, download=True, transform=transforms.Compose([\n",
        "#             transforms.ToTensor(),\n",
        "#             ])), \n",
        "#         batch_size=1, shuffle=True)\n",
        "\n",
        "# # Define what device we are using\n",
        "# print(\"CUDA Available: \",torch.cuda.is_available())\n",
        "# device = torch.device(\"cuda\" if (use_cuda and torch.cuda.is_available()) else \"cpu\")\n",
        "\n",
        "\n",
        "# Define what device we are using\n",
        "print(\"CUDA Available: \",torch.cuda.is_available())\n",
        "device = torch.device(\"cuda\" if (use_cuda and torch.cuda.is_available()) else \"cpu\")\n",
        "\n",
        "# # Initialize the network\n",
        "# model = Net().to(device)\n",
        "\n",
        "# # Load the pretrained model\n",
        "# model.load_state_dict(torch.load(pretrained_model, map_location='cpu'))\n",
        "\n",
        "# # Set the model in evaluation mode. In this case this is for the Dropout layers\n",
        "# model.eval()"
      ],
      "execution_count": 0,
      "outputs": [
        {
          "output_type": "stream",
          "text": [
            "CUDA Available:  False\n"
          ],
          "name": "stdout"
        }
      ]
    },
    {
      "cell_type": "code",
      "metadata": {
        "id": "WiEI-vEcNTQr",
        "colab_type": "code",
        "outputId": "cce069b6-7f02-4828-861b-0fda5a7e071a",
        "colab": {
          "base_uri": "https://localhost:8080/",
          "height": 349,
          "referenced_widgets": [
            "9d624060672044a28f4913ecf559b504",
            "ff67d6e8633a42afb7ec9f74e45bc241",
            "e9a39b43401d45be9871cb87040b22d6",
            "e5e4135b0c7d4965b461100e973ced2e",
            "ecaacae2df5743debc5c525338b85210",
            "df3b867fa39d420dbca0071d55774520",
            "572310653e6f4bcc8e7da5d6d4010b4f",
            "88c908f48c5542908aa1a96de927a553",
            "bcd4cca1794a493aa2f01a9d1874ad28",
            "1073cfe0529640798ff01cdc3d56bc3a",
            "3d8e12cb3636462aa709dea0d9d6c663",
            "f861e095388b406bbf375a0a14837ffa",
            "2c99c559999c445387468aa8eda4846a",
            "e2ba0bcc0dd34becadca8334e694ea38",
            "445016ec66ba4b49b0b1bbb896ad0200",
            "d67c4b184e80481999001cec83bab8c0",
            "7232051e76ac42f2bcc4b89023b85145",
            "90f787e0859542208f1ced03f95890c1",
            "6dad98424b4e499e9241e78c9752c6d8",
            "bf4a9fbe43cd471bb9e0ebd8e654f08c",
            "0f0af20bbe714f299dd7d0e984a72985",
            "c03b295a47334bb19e042d8558c01eec",
            "d8b2620136fc43b08347ef8bea681f63",
            "5c8c68a584be4695a76972967e869819",
            "a800fbbe1d0143308a5cbe54b00697ab",
            "a2e0ce011c4943579bb22dc42d185fe9",
            "88d6d5ce50bf494281700c33f39cdfc1",
            "ed289577ff534ca1b4039baa4e495ead",
            "34e235c6a639440ca4e45c430548761c",
            "24d95254e5af4aa883ed2e700e3bc332",
            "200157973efd459799e929fa58bda014",
            "a8410f60c3384ae1a6aac78d143ef570"
          ]
        }
      },
      "source": [
        "test_loader_new = torch.utils.data.DataLoader(\n",
        "    datasets.MNIST('../data', train=False, download=True, transform=transforms.Compose([\n",
        "            transforms.ToTensor(),\n",
        "            ])), \n",
        "        batch_size=100, shuffle=False)"
      ],
      "execution_count": 0,
      "outputs": [
        {
          "output_type": "stream",
          "text": [
            "Downloading http://yann.lecun.com/exdb/mnist/train-images-idx3-ubyte.gz to ../data/MNIST/raw/train-images-idx3-ubyte.gz\n"
          ],
          "name": "stdout"
        },
        {
          "output_type": "display_data",
          "data": {
            "application/vnd.jupyter.widget-view+json": {
              "model_id": "9d624060672044a28f4913ecf559b504",
              "version_minor": 0,
              "version_major": 2
            },
            "text/plain": [
              "HBox(children=(IntProgress(value=1, bar_style='info', max=1), HTML(value='')))"
            ]
          },
          "metadata": {
            "tags": []
          }
        },
        {
          "output_type": "stream",
          "text": [
            "Extracting ../data/MNIST/raw/train-images-idx3-ubyte.gz to ../data/MNIST/raw\n",
            "Downloading http://yann.lecun.com/exdb/mnist/train-labels-idx1-ubyte.gz to ../data/MNIST/raw/train-labels-idx1-ubyte.gz\n"
          ],
          "name": "stdout"
        },
        {
          "output_type": "display_data",
          "data": {
            "application/vnd.jupyter.widget-view+json": {
              "model_id": "bcd4cca1794a493aa2f01a9d1874ad28",
              "version_minor": 0,
              "version_major": 2
            },
            "text/plain": [
              "HBox(children=(IntProgress(value=1, bar_style='info', max=1), HTML(value='')))"
            ]
          },
          "metadata": {
            "tags": []
          }
        },
        {
          "output_type": "stream",
          "text": [
            "Extracting ../data/MNIST/raw/train-labels-idx1-ubyte.gz to ../data/MNIST/raw\n",
            "Downloading http://yann.lecun.com/exdb/mnist/t10k-images-idx3-ubyte.gz to ../data/MNIST/raw/t10k-images-idx3-ubyte.gz\n"
          ],
          "name": "stdout"
        },
        {
          "output_type": "display_data",
          "data": {
            "application/vnd.jupyter.widget-view+json": {
              "model_id": "7232051e76ac42f2bcc4b89023b85145",
              "version_minor": 0,
              "version_major": 2
            },
            "text/plain": [
              "HBox(children=(IntProgress(value=1, bar_style='info', max=1), HTML(value='')))"
            ]
          },
          "metadata": {
            "tags": []
          }
        },
        {
          "output_type": "stream",
          "text": [
            "Extracting ../data/MNIST/raw/t10k-images-idx3-ubyte.gz to ../data/MNIST/raw\n",
            "Downloading http://yann.lecun.com/exdb/mnist/t10k-labels-idx1-ubyte.gz to ../data/MNIST/raw/t10k-labels-idx1-ubyte.gz\n",
            "\n",
            "\n"
          ],
          "name": "stdout"
        },
        {
          "output_type": "display_data",
          "data": {
            "application/vnd.jupyter.widget-view+json": {
              "model_id": "a800fbbe1d0143308a5cbe54b00697ab",
              "version_minor": 0,
              "version_major": 2
            },
            "text/plain": [
              "HBox(children=(IntProgress(value=1, bar_style='info', max=1), HTML(value='')))"
            ]
          },
          "metadata": {
            "tags": []
          }
        },
        {
          "output_type": "stream",
          "text": [
            "Extracting ../data/MNIST/raw/t10k-labels-idx1-ubyte.gz to ../data/MNIST/raw\n",
            "Processing...\n",
            "Done!\n"
          ],
          "name": "stdout"
        }
      ]
    },
    {
      "cell_type": "code",
      "metadata": {
        "id": "yAf8c_q5C1G8",
        "colab_type": "code",
        "outputId": "4b4f109e-60c9-4f53-a8ba-ee13d15a9761",
        "colab": {
          "base_uri": "https://localhost:8080/",
          "height": 918
        }
      },
      "source": [
        "import torchvision\n",
        "\n",
        "epsilons = [0, .05, .1, .15, .2, .25, .3]\n",
        "slopes   = [.5, 1, 2, 5, 10, 100]\n",
        "loop = [1,2,3,4,5,6,7]\n",
        "\n",
        "attackNames = ['FGSM', 'BIM', 'StepLL', 'RFGSM', 'PGD',  'DeepFool']\n",
        "all_accuracies = torch.empty((len(attackNames), len(slopes), len(epsilons)))\n",
        "\n",
        "\n",
        "for epIdx, ep in enumerate(epsilons):\n",
        "    # Run test for each slope\n",
        "    for slIdx, sl in enumerate(slopes):\n",
        "        # Initialize the network\n",
        "        model = NetTest(sl).to(device)\n",
        "#         model = Holdout(sl).to(device)    \n",
        "        # Load the pretrained model\n",
        "        model.load_state_dict(torch.load(pretrained_model, map_location='cpu'))\n",
        "        # Set the model in evaluation mode. In this case this is for the Dropout layers\n",
        "        model.eval()\n",
        "\n",
        "\n",
        "        FGSM = torchattacks.FGSM(model, eps=ep)\n",
        "        BIM = torchattacks.BIM(model, eps=ep, alpha=1/255, iters=0)\n",
        "        StepLL = torchattacks.StepLL(model, eps=ep, alpha=1/255, iters=0)\n",
        "        RFGSM = torchattacks.RFGSM(model, eps=ep, alpha=8/255, iters=5)\n",
        "        # CW = torchattacks.CW(model, targeted=False, c=1, kappa=0, iters=100, lr=0.01) # large c ignores the norm and cares about misclassification!\n",
        "        PGD = torchattacks.PGD(model, eps=ep, alpha=2/255, iters=40)\n",
        "        RPGD = torchattacks.APGD(model, eps=ep, alpha=2/255, iters=40)\n",
        "        DeepFool = torchattacks.DeepFool(model, iters=loop[epIdx])        \n",
        "        attacks = [FGSM, BIM, StepLL, RFGSM, PGD, DeepFool]\n",
        "        # attacks = [DeepFool]\n",
        "\n",
        "        for attIdx, (attName, attack) in enumerate(zip(attackNames, attacks)):\n",
        "            print(f'\\n Running {attName}, slope={sl}, eps={ep} ... ')\n",
        "\n",
        "            correct = 0\n",
        "            total = 0\n",
        "\n",
        "            for idx, (images, labels) in enumerate(test_loader_new):\n",
        "\n",
        "                images = images.to(device)\n",
        "                labels = labels.to(device)\n",
        "\n",
        "                init_outputs = model(images)\n",
        "                _, init_pre = torch.max(init_outputs.data, 1)                \n",
        "                # import pdb; pdb.set_trace()\n",
        "                new_labels = labels[init_pre == labels]   # correctly predicted samples\n",
        "                new_images = images[init_pre == labels]\n",
        "\n",
        "                new_images = attack(new_images, new_labels) #only send the correct predictions\n",
        "                # plt.imshow(new_images[0].cpu().numpy().squeeze(0))\n",
        "                # plt.show()\n",
        "                outputs = model(new_images)\n",
        "\n",
        "                _, pre = torch.max(outputs.data, 1)\n",
        "\n",
        "                total += len(labels)\n",
        "                correct += (pre == new_labels).sum()\n",
        "\n",
        "        #         if idx == 0:\n",
        "        #             imshow(torchvision.utils.make_grid(images, nrow=10, normalize=True), '     '.join([str(i.tolist()) for i in pre]))\n",
        "            acc = (100 * float(correct) / total)\n",
        "            print('Test Accuracy: %f %%' % acc)\n",
        "            all_accuracies[attIdx, slIdx, epIdx] = acc\n",
        "                        \n",
        "            "
      ],
      "execution_count": 0,
      "outputs": [
        {
          "output_type": "stream",
          "text": [
            "\n",
            " Running FGSM, slope=0.5, eps=0 ... \n",
            "Test Accuracy: 90.700000 %\n",
            "\n",
            " Running BIM, slope=0.5, eps=0 ... \n",
            "Test Accuracy: 90.700000 %\n",
            "\n",
            " Running StepLL, slope=0.5, eps=0 ... \n",
            "Test Accuracy: 90.700000 %\n",
            "\n",
            " Running RFGSM, slope=0.5, eps=0 ... \n",
            "Test Accuracy: 90.700000 %\n",
            "\n",
            " Running PGD, slope=0.5, eps=0 ... \n",
            "Test Accuracy: 90.700000 %\n",
            "\n",
            " Running DeepFool, slope=0.5, eps=0 ... \n",
            "Test Accuracy: 88.670000 %\n",
            "\n",
            " Running FGSM, slope=1, eps=0 ... \n",
            "Test Accuracy: 98.100000 %\n",
            "\n",
            " Running BIM, slope=1, eps=0 ... \n",
            "Test Accuracy: 98.100000 %\n",
            "\n",
            " Running StepLL, slope=1, eps=0 ... \n",
            "Test Accuracy: 98.100000 %\n",
            "\n",
            " Running RFGSM, slope=1, eps=0 ... \n",
            "Test Accuracy: 98.100000 %\n",
            "\n",
            " Running PGD, slope=1, eps=0 ... \n",
            "Test Accuracy: 98.100000 %\n",
            "\n",
            " Running DeepFool, slope=1, eps=0 ... \n",
            "Test Accuracy: 96.950000 %\n",
            "\n",
            " Running FGSM, slope=2, eps=0 ... \n",
            "Test Accuracy: 98.210000 %\n",
            "\n",
            " Running BIM, slope=2, eps=0 ... \n",
            "Test Accuracy: 98.210000 %\n",
            "\n",
            " Running StepLL, slope=2, eps=0 ... \n",
            "Test Accuracy: 98.210000 %\n",
            "\n",
            " Running RFGSM, slope=2, eps=0 ... \n",
            "Test Accuracy: 98.210000 %\n",
            "\n",
            " Running PGD, slope=2, eps=0 ... \n",
            "Test Accuracy: 98.210000 %\n",
            "\n",
            " Running DeepFool, slope=2, eps=0 ... \n"
          ],
          "name": "stdout"
        }
      ]
    },
    {
      "cell_type": "code",
      "metadata": {
        "id": "YuJx_2jj8mjE",
        "colab_type": "code",
        "outputId": "68555f60-f8a7-495b-9b65-5b2966437772",
        "colab": {
          "base_uri": "https://localhost:8080/",
          "height": 34
        }
      },
      "source": [
        "images[0].max()"
      ],
      "execution_count": 0,
      "outputs": [
        {
          "output_type": "execute_result",
          "data": {
            "text/plain": [
              "tensor(1., device='cuda:0')"
            ]
          },
          "metadata": {
            "tags": []
          },
          "execution_count": 13
        }
      ]
    },
    {
      "cell_type": "code",
      "metadata": {
        "id": "Zt5YuFJ5eRep",
        "colab_type": "code",
        "colab": {}
      },
      "source": [
        ""
      ],
      "execution_count": 0,
      "outputs": []
    },
    {
      "cell_type": "code",
      "metadata": {
        "id": "4KyL6GZzKVpU",
        "colab_type": "code",
        "outputId": "e0f19d72-9738-4587-a0ad-0b42398df6c0",
        "colab": {
          "base_uri": "https://localhost:8080/",
          "height": 350
        }
      },
      "source": [
        "fig = plt.figure(figsize=(5,5))\n",
        "\n",
        "res = all_accuracies.mean(axis=2)\n",
        "\n",
        "symbs = ['*-', 'o-',  's-', 'd-', '+-', 'x-', '^-', '<-']\n",
        "for idx in range(len(res)):\n",
        "    plt.plot(res[idx,:]/100, symbs[idx])\n",
        "    \n",
        "#     plt.plot(epsilons, np.array(all_accuracies).T, \"*-\")\n",
        "plt.yticks(np.arange(0, 1.1, step=0.1))\n",
        "plt.xticks(np.arange(0, res.shape[0], step=1), slopes)\n",
        "plt.title(\"Accuracy vs Slope\")\n",
        "plt.xlabel(\"Slope\")\n",
        "plt.ylabel(\"Accuracy\")\n",
        "plt.legend(attackNames)\n",
        "plt.show()\n",
        "fig.savefig(f'/gdrive/My Drive/Tmp/avg-MNIST.png')"
      ],
      "execution_count": 0,
      "outputs": [
        {
          "output_type": "display_data",
          "data": {
            "image/png": "[encoded data removed]",
            "text/plain": [
              "<Figure size 360x360 with 1 Axes>"
            ]
          },
          "metadata": {
            "tags": [],
            "needs_background": "light"
          }
        }
      ]
    },
    {
      "cell_type": "code",
      "metadata": {
        "id": "Yyty8kqw1yPm",
        "colab_type": "code",
        "outputId": "a088616a-6e1c-4fba-92ab-787ce61aa624",
        "colab": {
          "base_uri": "https://localhost:8080/",
          "height": 1000
        }
      },
      "source": [
        "\n",
        "\n",
        "for attIdx, att in enumerate(attackNames):\n",
        "  fig = plt.figure(figsize=(5,5))\n",
        "  res = all_accuracies[attIdx]\n",
        "\n",
        "  symbs = ['*-', 'o-',  's-', 'd-', '+-', 'x-', '^-', '<-']\n",
        "  for idx in range(len(res)):\n",
        "      plt.plot(res[idx,:]/100, symbs[idx])\n",
        "      \n",
        "  #     plt.plot(epsilons, np.array(all_accuracies).T, \"*-\")\n",
        "  plt.yticks(np.arange(0, 1.1, step=0.1))\n",
        "  plt.xticks(np.arange(0, len(epsilons), step=1), epsilons)\n",
        "  plt.title(f\"Accuracy vs Epsilon - {att}\")\n",
        "  plt.xlabel(\"Epsilon\")\n",
        "  plt.ylabel(\"Accuracy\")\n",
        "  plt.legend(slopes)\n",
        "  plt.show()\n",
        "  # fig.savefig(f'/gdrive/My Drive/Tmp/avg-MNIST-{att}.png')"
      ],
      "execution_count": 0,
      "outputs": [
        {
          "output_type": "display_data",
          "data": {
            "image/png": "[encoded data removed]",
            "text/plain": [
              "<Figure size 360x360 with 1 Axes>"
            ]
          },
          "metadata": {
            "tags": [],
            "needs_background": "light"
          }
        },
        {
          "output_type": "display_data",
          "data": {
            "image/png": "[encoded data removed]",
            "text/plain": [
              "<Figure size 360x360 with 1 Axes>"
            ]
          },
          "metadata": {
            "tags": [],
            "needs_background": "light"
          }
        },
        {
          "output_type": "display_data",
          "data": {
            "image/png": "[encoded data removed]",
            "text/plain": [
              "<Figure size 360x360 with 1 Axes>"
            ]
          },
          "metadata": {
            "tags": [],
            "needs_background": "light"
          }
        },
        {
          "output_type": "display_data",
          "data": {
            "image/png": "[encoded data removed]",
            "text/plain": [
              "<Figure size 360x360 with 1 Axes>"
            ]
          },
          "metadata": {
            "tags": [],
            "needs_background": "light"
          }
        },
        {
          "output_type": "display_data",
          "data": {
            "image/png": "[encoded data removed]",
            "text/plain": [
              "<Figure size 360x360 with 1 Axes>"
            ]
          },
          "metadata": {
            "tags": [],
            "needs_background": "light"
          }
        },
        {
          "output_type": "display_data",
          "data": {
            "image/png": "[encoded data removed]",
            "text/plain": [
              "<Figure size 360x360 with 1 Axes>"
            ]
          },
          "metadata": {
            "tags": [],
            "needs_background": "light"
          }
        },
        {
          "output_type": "display_data",
          "data": {
            "image/png": "[encoded data removed]",
            "text/plain": [
              "<Figure size 360x360 with 1 Axes>"
            ]
          },
          "metadata": {
            "tags": [],
            "needs_background": "light"
          }
        }
      ]
    },
    {
      "cell_type": "code",
      "metadata": {
        "id": "qchpdpq0V_J6",
        "colab_type": "code",
        "colab": {}
      },
      "source": [
        "tmp = all_accuracies\n",
        "torch.save(all_accuracies,'/gdrive/My Drive/Tmp/accs_CIFAR10.npy')"
      ],
      "execution_count": 0,
      "outputs": []
    },
    {
      "cell_type": "code",
      "metadata": {
        "id": "99ShncQptci7",
        "colab_type": "code",
        "outputId": "f8135931-c5c9-474d-b53e-b2e22ea32d17",
        "colab": {
          "base_uri": "https://localhost:8080/",
          "height": 34
        }
      },
      "source": [
        "all_accuracies.shape"
      ],
      "execution_count": 0,
      "outputs": [
        {
          "output_type": "execute_result",
          "data": {
            "text/plain": [
              "torch.Size([6, 6, 7])"
            ]
          },
          "metadata": {
            "tags": []
          },
          "execution_count": 17
        }
      ]
    },
    {
      "cell_type": "code",
      "metadata": {
        "id": "ODmLXirXtkXk",
        "colab_type": "code",
        "colab": {}
      },
      "source": [
        "# torch.save(all_accuracies,'/gdrive/My Drive/Tmp/accs_MNIST.npy')\n",
        "all_accuracies = torch.load('/gdrive/My Drive/Tmp/accs_MNIST.npy')"
      ],
      "execution_count": 0,
      "outputs": []
    },
    {
      "cell_type": "markdown",
      "metadata": {
        "id": "T9MQZsZZ8V_8",
        "colab_type": "text"
      },
      "source": [
        "# Analysis of Activation functions"
      ]
    },
    {
      "cell_type": "code",
      "metadata": {
        "id": "O656Sm8sj3J8",
        "colab_type": "code",
        "colab": {}
      },
      "source": [
        "\n",
        "\n",
        "\n",
        "# LeNet Model definition\n",
        "class NewNetTest(nn.Module):\n",
        "    def __init__(self, act):\n",
        "        super(NewNetTest, self).__init__()\n",
        "        self.conv1 = nn.Conv2d(1, 10, kernel_size=5)\n",
        "        self.conv2 = nn.Conv2d(10, 20, kernel_size=5)\n",
        "        self.conv2_drop = nn.Dropout2d()\n",
        "        self.fc1 = nn.Linear(320, 50)\n",
        "        self.fc2 = nn.Linear(50, 10)\n",
        "        self.act = act\n",
        "\n",
        "    def forward(self, x):\n",
        "        x = self.act(F.max_pool2d(self.conv1(x), 2))\n",
        "        x = self.act(F.max_pool2d(self.conv2_drop(self.conv2(x)), 2))    \n",
        "        x = x.view(-1, 320)\n",
        "        x = self.act(self.fc1(x))\n",
        "        x = F.dropout(x, training=self.training)\n",
        "        x = self.fc2(x)\n",
        "        return F.log_softmax(x, dim=1)\n",
        "\n"
      ],
      "execution_count": 0,
      "outputs": []
    },
    {
      "cell_type": "code",
      "metadata": {
        "id": "Y6JM_rzhWBbr",
        "colab_type": "code",
        "outputId": "b565df8a-8a87-4f1c-8254-e4e2faf6df43",
        "colab": {
          "base_uri": "https://localhost:8080/",
          "height": 731
        }
      },
      "source": [
        "\n",
        "epsilons = [0, .05, .1, .15, .2, .25, .3]\n",
        "activations = [nn.Sigmoid(), nn.Tanh(), nn.Softsign(), nn.Softplus(), nn.CELU(), nn.ReLU()]\n",
        "act_accs = torch.zeros(len(activations), len(epsilons))\n",
        "\n",
        "\n",
        "for actIdx, act in enumerate(activations):\n",
        "  for epIdx, ep in enumerate(epsilons):\n",
        "      # Initialize the network\n",
        "      model = NewNetTest(act).to(device)\n",
        "      model.load_state_dict(torch.load(pretrained_model, map_location='cuda'))\n",
        "      # Set the model in evaluation mode. In this case this is for the Dropout layers\n",
        "      model.eval()\n",
        "\n",
        "\n",
        "      FGSM = torchattacks.FGSM(model, eps=ep)\n",
        "\n",
        "      correct = 0\n",
        "      total = 0\n",
        "\n",
        "      for idx, (images, labels) in enumerate(test_loader_new):\n",
        "\n",
        "          # attack only those that have been correctly classified\n",
        "          images = images.to(device)\n",
        "          labels = labels.to(device)\n",
        "\n",
        "          init_outputs = model(images)\n",
        "          _, init_pre = torch.max(init_outputs.data, 1)                \n",
        "          # import pdb; pdb.set_trace()\n",
        "          new_labels = labels[init_pre == labels]\n",
        "          new_images = images[init_pre == labels]\n",
        "\n",
        "          new_images = FGSM(new_images, new_labels)\n",
        "          outputs = model(new_images)\n",
        "\n",
        "          _, pre = torch.max(outputs.data, 1)\n",
        "\n",
        "          total += len(labels)\n",
        "          correct += (pre == new_labels).sum()\n",
        "\n",
        "  #         if idx == 0:\n",
        "  #             imshow(torchvision.utils.make_grid(images, nrow=10, normalize=True), '     '.join([str(i.tolist()) for i in pre]))\n",
        "      acc = (100 * float(correct) / total)\n",
        "      print('Test Accuracy: %f %%' % acc)\n",
        "      act_accs[actIdx, epIdx] = acc"
      ],
      "execution_count": 0,
      "outputs": [
        {
          "output_type": "stream",
          "text": [
            "Test Accuracy: 19.360000 %\n",
            "Test Accuracy: 17.790000 %\n",
            "Test Accuracy: 14.830000 %\n",
            "Test Accuracy: 11.200000 %\n",
            "Test Accuracy: 8.080000 %\n",
            "Test Accuracy: 5.940000 %\n",
            "Test Accuracy: 3.590000 %\n",
            "Test Accuracy: 79.680000 %\n",
            "Test Accuracy: 50.130000 %\n",
            "Test Accuracy: 27.320000 %\n",
            "Test Accuracy: 14.320000 %\n",
            "Test Accuracy: 7.350000 %\n",
            "Test Accuracy: 3.620000 %\n",
            "Test Accuracy: 1.600000 %\n",
            "Test Accuracy: 69.880000 %\n",
            "Test Accuracy: 41.480000 %\n",
            "Test Accuracy: 22.670000 %\n",
            "Test Accuracy: 11.970000 %\n",
            "Test Accuracy: 5.850000 %\n",
            "Test Accuracy: 2.380000 %\n",
            "Test Accuracy: 0.820000 %\n",
            "Test Accuracy: 60.990000 %\n",
            "Test Accuracy: 44.970000 %\n",
            "Test Accuracy: 35.200000 %\n",
            "Test Accuracy: 24.420000 %\n",
            "Test Accuracy: 14.210000 %\n",
            "Test Accuracy: 6.910000 %\n",
            "Test Accuracy: 3.140000 %\n",
            "Test Accuracy: 97.130000 %\n",
            "Test Accuracy: 90.260000 %\n",
            "Test Accuracy: 73.400000 %\n",
            "Test Accuracy: 44.120000 %\n",
            "Test Accuracy: 18.500000 %\n",
            "Test Accuracy: 5.580000 %\n",
            "Test Accuracy: 1.290000 %\n",
            "Test Accuracy: 98.100000 %\n",
            "Test Accuracy: 94.250000 %\n",
            "Test Accuracy: 85.120000 %\n",
            "Test Accuracy: 68.390000 %\n",
            "Test Accuracy: 43.300000 %\n",
            "Test Accuracy: 20.980000 %\n",
            "Test Accuracy: 8.730000 %\n"
          ],
          "name": "stdout"
        }
      ]
    },
    {
      "cell_type": "code",
      "metadata": {
        "id": "yPipzRbbkD2X",
        "colab_type": "code",
        "outputId": "9b0c30f4-397a-4f32-820b-453baf02c269",
        "colab": {
          "base_uri": "https://localhost:8080/",
          "height": 350
        }
      },
      "source": [
        "fig=plt.figure(figsize=(5,5))\n",
        "symbs = ['*-', 's-', 'o-', '^-', '>-', 'x-', '<-']\n",
        "for idx, acc in enumerate(act_accs):\n",
        "    plt.plot(acc/100, symbs[idx])\n",
        "    \n",
        "#     plt.plot(epsilons, np.array(all_accuracies).T, \"*-\")\n",
        "plt.yticks(np.arange(0, 1.1, step=0.1))\n",
        "plt.xticks(np.arange(0, len(epsilons)), epsilons)\n",
        "plt.title(\"Accuracy vs Epsilon\")\n",
        "plt.xlabel(\"Epsilon\")\n",
        "plt.ylabel(\"Accuracy\")\n",
        "plt.legend(['sigmoid', 'tanh', 'softsign', 'softplus', 'celu', 'relu'])\n",
        "plt.show()\n",
        "fig.savefig(f'/gdrive/My Drive/Tmp/Activations-MNIST.png')"
      ],
      "execution_count": 0,
      "outputs": [
        {
          "output_type": "display_data",
          "data": {
            "image/png": "[encoded data removed]",
            "text/plain": [
              "<Figure size 360x360 with 1 Axes>"
            ]
          },
          "metadata": {
            "tags": [],
            "needs_background": "light"
          }
        }
      ]
    },
    {
      "cell_type": "code",
      "metadata": {
        "id": "6I55FCh-qph6",
        "colab_type": "code",
        "colab": {}
      },
      "source": [
        ""
      ],
      "execution_count": 0,
      "outputs": []
    },
    {
      "cell_type": "code",
      "metadata": {
        "id": "mUbaiPZAH74r",
        "colab_type": "code",
        "colab": {}
      },
      "source": [
        ""
      ],
      "execution_count": 0,
      "outputs": []
    }
  ]
}