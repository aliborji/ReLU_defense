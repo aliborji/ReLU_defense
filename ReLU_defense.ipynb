{
 "cells": [
  {
   "cell_type": "markdown",
   "metadata": {},
   "source": [
    "\n",
    "ReLU defense\n",
    "==============================\n",
    "\n",
    "**Author:** https://github.com/aliborji/ReLU_defense.git\n",
    "\n"
   ]
  },
  {
   "cell_type": "code",
   "execution_count": 9,
   "metadata": {
    "colab": {},
    "colab_type": "code",
    "id": "yTOeDD4fIbdq"
   },
   "outputs": [],
   "source": [
    "%matplotlib inline"
   ]
  },
  {
   "cell_type": "code",
   "execution_count": 10,
   "metadata": {
    "colab": {},
    "colab_type": "code",
    "id": "-Fw-gSFYIbdu"
   },
   "outputs": [],
   "source": [
    "from __future__ import print_function\n",
    "import torch\n",
    "import torch.nn as nn\n",
    "import torch.nn.functional as F\n",
    "import torch.optim as optim\n",
    "from torchvision import datasets, transforms\n",
    "import numpy as np\n",
    "import matplotlib.pyplot as plt"
   ]
  },
  {
   "cell_type": "code",
   "execution_count": 15,
   "metadata": {
    "colab": {},
    "colab_type": "code",
    "id": "MXobUARXIbd4"
   },
   "outputs": [],
   "source": [
    "# FGSM attack code\n",
    "def fgsm_attack(image, epsilon, data_grad):\n",
    "    # Collect the element-wise sign of the data gradient\n",
    "    sign_data_grad = data_grad.sign()\n",
    "    # Create the perturbed image by adjusting each pixel of the input image\n",
    "    perturbed_image = image + epsilon*sign_data_grad\n",
    "    # Adding clipping to maintain [0,1] range\n",
    "    perturbed_image = torch.clamp(perturbed_image, 0, 1)\n",
    "    # Return the perturbed image\n",
    "    return perturbed_image"
   ]
  },
  {
   "cell_type": "code",
   "execution_count": 1,
   "metadata": {},
   "outputs": [],
   "source": [
    "# def fgsm(self, x, y, targeted=False, eps=0.03, x_val_min=-1, x_val_max=1):\n",
    "#     x_adv = Variable(x.data, requires_grad=True)\n",
    "#     h_adv = self.net(x_adv)\n",
    "#     if targeted:\n",
    "#         cost = self.criterion(h_adv, y)\n",
    "#     else:\n",
    "#         cost = -self.criterion(h_adv, y)\n",
    "\n",
    "#     self.net.zero_grad()\n",
    "#     if x_adv.grad is not None:\n",
    "#         x_adv.grad.data.fill_(0)\n",
    "#     cost.backward()\n",
    "\n",
    "#     x_adv.grad.sign_()\n",
    "#     x_adv = x_adv - eps*x_adv.grad\n",
    "#     x_adv = torch.clamp(x_adv, x_val_min, x_val_max)\n",
    "\n",
    "\n",
    "#     h = self.net(x)\n",
    "#     h_adv = self.net(x_adv)\n",
    "\n",
    "#     return x_adv, h_adv, h"
   ]
  },
  {
   "cell_type": "code",
   "execution_count": 24,
   "metadata": {
    "colab": {},
    "colab_type": "code",
    "id": "-VUhyipnIbd8"
   },
   "outputs": [],
   "source": [
    "def test( model, device, test_loader, epsilon ):\n",
    "\n",
    "    # Accuracy counter\n",
    "    correct = 0\n",
    "    adv_examples = []\n",
    "\n",
    "    # Loop over all examples in test set\n",
    "    for data, target in test_loader:\n",
    "\n",
    "        # Send the data and label to the device\n",
    "        data, target = data.to(device), target.to(device)\n",
    "\n",
    "        # Set requires_grad attribute of tensor. Important for Attack\n",
    "        data.requires_grad = True\n",
    "\n",
    "        # Forward pass the data through the model\n",
    "        output = model(data)\n",
    "        init_pred = output.max(1, keepdim=True)[1] # get the index of the max log-probability\n",
    "\n",
    "        # If the initial prediction is wrong, dont bother attacking, just move on\n",
    "        if init_pred.item() != target.item():\n",
    "            continue\n",
    "\n",
    "        # Calculate the loss\n",
    "#         loss = F.nll_loss(output, target)\n",
    "        loss = F.cross_entropy(output, target)        \n",
    "\n",
    "        # Zero all existing gradients\n",
    "        model.zero_grad()\n",
    "\n",
    "        # Calculate gradients of model in backward pass\n",
    "        loss.backward()\n",
    "\n",
    "        # Collect datagrad\n",
    "        data_grad = data.grad.data\n",
    "\n",
    "        # Call FGSM Attack\n",
    "        perturbed_data = fgsm_attack(data, epsilon, data_grad)\n",
    "\n",
    "        # Re-classify the perturbed image\n",
    "        output = model(perturbed_data)\n",
    "\n",
    "        # Check for success\n",
    "        final_pred = output.max(1, keepdim=True)[1] # get the index of the max log-probability\n",
    "        if final_pred.item() == target.item():\n",
    "            correct += 1\n",
    "            # Special case for saving 0 epsilon examples\n",
    "            if (epsilon == 0) and (len(adv_examples) < 5):\n",
    "                adv_ex = perturbed_data.squeeze().detach().cpu().numpy()\n",
    "                adv_examples.append( (init_pred.item(), final_pred.item(), adv_ex) )\n",
    "        else:\n",
    "            # Save some adv examples for visualization later\n",
    "            if len(adv_examples) < 5:\n",
    "                adv_ex = perturbed_data.squeeze().detach().cpu().numpy()\n",
    "                adv_examples.append( (init_pred.item(), final_pred.item(), adv_ex) )\n",
    "\n",
    "    # Calculate final accuracy for this epsilon\n",
    "    final_acc = correct/float(len(test_loader))\n",
    "    print(\"Epsilon: {}\\tTest Accuracy = {} / {} = {}\".format(epsilon, correct, len(test_loader), final_acc))\n",
    "\n",
    "    # Return the accuracy and an adversarial example\n",
    "    return final_acc, adv_examples"
   ]
  },
  {
   "cell_type": "code",
   "execution_count": 2,
   "metadata": {},
   "outputs": [],
   "source": [
    "# class myRelu(nn.Module):\n",
    "#     def __init__(self, slope = 1):\n",
    "#         super().__init__()\n",
    "#         self.slope = slope\n",
    "\n",
    "#     def forward(self, x):\n",
    "#         return self.slope * torch.relu(x)\n",
    "\n",
    "# class reluForward(torch.autograd.Function):\n",
    "#   @staticmethod\n",
    "#   def forward(self, inp, slope = 1):\n",
    "#     #option1:\n",
    "#     #return = inp * (inp>0).float()\n",
    "#     #option2:\n",
    "#     #return F.relu(inp).data\n",
    "#     #option3:\n",
    "#     s = torch.tensor(slope, requires_grad=False)\n",
    "#     return s * F.relu(inp)\n",
    "\n",
    "#   @staticmethod\n",
    "#   def backward(self, grad_out, a):\n",
    "#     return grad_out, a\n",
    "\n",
    "# # To use it:\n",
    "# inp = torch.tensor([4])# rand(3)\n",
    "# out = reluForward(2).apply(inp) # Use the class here, not an instance of it !\n",
    "\n",
    "# class reluForward(nn.Module):\n",
    "\n",
    "#     def __init__(self, slope=0.9):\n",
    "#         super().__init__()\n",
    "#         self.slope = slope\n",
    "\n",
    "#     def forward(self, x):\n",
    "#         return self.slope * F.relu(x)"
   ]
  },
  {
   "cell_type": "code",
   "execution_count": 23,
   "metadata": {},
   "outputs": [],
   "source": [
    "# simply define a silu function\n",
    "def srelu(input, slope):\n",
    "    '''\n",
    "    Applies the Sigmoid Linear Unit (SiLU) function element-wise:\n",
    "\n",
    "        SiLU(x) = x * sigmoid(x)\n",
    "    '''\n",
    "#     return input * torch.sigmoid(input) # use torch.sigmoid to make sure that we created the most efficient implemetation based on builtin PyTorch functions\n",
    "    return slope * F.relu(input)\n",
    "\n",
    "# create a class wrapper from PyTorch nn.Module, so\n",
    "# the function now can be easily used in models\n",
    "class SReLU(nn.Module):\n",
    "    '''\n",
    "    Applies the Sigmoid Linear Unit (SiLU) function element-wise:\n",
    "    \n",
    "        SiLU(x) = x * sigmoid(x)\n",
    "\n",
    "    Shape:\n",
    "        - Input: (N, *) where * means, any number of additional\n",
    "          dimensions\n",
    "        - Output: (N, *), same shape as the input\n",
    "\n",
    "    References:\n",
    "        -  Related paper:\n",
    "        https://arxiv.org/pdf/1606.08415.pdf\n",
    "\n",
    "    Examples:\n",
    "        >>> m = silu()\n",
    "        >>> input = torch.randn(2)\n",
    "        >>> output = m(input)\n",
    "\n",
    "    '''\n",
    "    def __init__(self):\n",
    "        '''\n",
    "        Init method.\n",
    "        '''\n",
    "        super().__init__() # init the base class\n",
    "\n",
    "    def forward(self, input, slope):\n",
    "        '''\n",
    "        Forward pass of the function.\n",
    "        '''\n",
    "        return srelu(input, slope) # simply apply already implemented SiLU"
   ]
  },
  {
   "cell_type": "code",
   "execution_count": 26,
   "metadata": {},
   "outputs": [],
   "source": [
    "# LeNet Model definition\n",
    "class NetTest(nn.Module):\n",
    "    def __init__(self, slope):\n",
    "        super(NetTest, self).__init__()\n",
    "        self.conv1 = nn.Conv2d(1, 10, kernel_size=5)\n",
    "        self.conv2 = nn.Conv2d(10, 20, kernel_size=5)\n",
    "        self.conv2_drop = nn.Dropout2d()\n",
    "        self.fc1 = nn.Linear(320, 50)\n",
    "        self.fc2 = nn.Linear(50, 10)\n",
    "        self.slope = slope\n",
    "\n",
    "    def forward(self, x):\n",
    "#         s = torch.tensor(.7, requires_grad=False)        \n",
    "        x = srelu(F.max_pool2d(self.conv1(x), 2), self.slope)\n",
    "        x = srelu(F.max_pool2d(self.conv2_drop(self.conv2(x)), 2), self.slope)    \n",
    "#         x = F.relu(F.max_pool2d(self.conv2_drop(self.conv2(x)), 2))\n",
    "        x = x.view(-1, 320)\n",
    "        x = srelu(self.fc1(x), self.slope)\n",
    "#         x = F.relu(self.fc1(x))        \n",
    "        x = F.dropout(x, training=self.training)\n",
    "        x = self.fc2(x)\n",
    "        return F.log_softmax(x, dim=1)  ### SUPER IMPORTANT ***************************** works with nll loss loss now\n",
    "#         return x  ### SUPER IMPORTANT ***************************** works with cross entropy loss loss now\n",
    "\n",
    "# # MNIST Test dataset and dataloader declaration\n",
    "test_loader = torch.utils.data.DataLoader(\n",
    "    datasets.MNIST('../data', train=False, download=True, transform=transforms.Compose([\n",
    "            transforms.ToTensor(),\n",
    "            ])), \n",
    "        batch_size=1, shuffle=True)\n",
    "\n",
    "# # Define what device we are using\n",
    "# print(\"CUDA Available: \",torch.cuda.is_available())\n",
    "device = torch.device(\"cuda\" if (use_cuda and torch.cuda.is_available()) else \"cpu\")\n",
    "\n"
   ]
  },
  {
   "cell_type": "code",
   "execution_count": 21,
   "metadata": {},
   "outputs": [],
   "source": [
    "epsilons = [0, .05, .1, .15, .2, .25, .3]\n",
    "pretrained_model = \"./models/lenet_mnist_model.pth\"\n",
    "use_cuda=False"
   ]
  },
  {
   "cell_type": "code",
   "execution_count": 16,
   "metadata": {},
   "outputs": [],
   "source": [
    "# # accuracy on clean data\n",
    "\n",
    "# # SKIP THIS!! It just computes score on clean data.\n",
    "# slopes   = [.2, .5, 1, 2, 5, 10, 100]\n",
    "# accs = []\n",
    "\n",
    "# for sl in slopes:\n",
    "\n",
    "#     # Initialize the network\n",
    "#     model = NetTest(sl).to(device)\n",
    "\n",
    "#     # Load the pretrained model\n",
    "#     model.load_state_dict(torch.load(pretrained_model, map_location='cpu'))\n",
    "\n",
    "#     # Set the model in evaluation mode. In this case this is for the Dropout layers\n",
    "#     model.eval()\n",
    "\n",
    "\n",
    "#     correct = 0\n",
    "#     total = 0\n",
    "\n",
    "#     for images, labels in test_loader:\n",
    "\n",
    "#     #     images = images.cuda()\n",
    "#         outputs = model(images)\n",
    "\n",
    "#         _, predicted = torch.max(outputs, 1)\n",
    "\n",
    "#         total += labels.size(0)\n",
    "#         correct += (predicted == labels).sum()\n",
    "\n",
    "#     print('Accuracy of Clean images: %f %%' % (100 * float(correct) / total))\n",
    "    \n",
    "#     accs.append((100 * float(correct) / total))"
   ]
  },
  {
   "cell_type": "code",
   "execution_count": 27,
   "metadata": {},
   "outputs": [
    {
     "name": "stdout",
     "output_type": "stream",
     "text": [
      "\n",
      " Running slope=10 ... \n",
      "Epsilon: 0.1\tTest Accuracy = 9781 / 10000 = 0.9781\n"
     ]
    }
   ],
   "source": [
    "epsilons = [0, .05, .1, .15, .2, .25, .3]\n",
    "slopes   = [.2, .5, 1, 2, 5, 10, 100]\n",
    "\n",
    "epsilons = [.1]\n",
    "slopes   = [10]\n",
    "\n",
    "\n",
    "all_accuracies = []\n",
    "all_examples = []\n",
    "\n",
    "# Run test for each slope\n",
    "for sl in slopes:\n",
    "    print(f'\\n Running slope={sl} ... ')\n",
    "    # Initialize the network\n",
    "    model = NetTest(sl).to(device)\n",
    "\n",
    "    # Load the pretrained model\n",
    "    model.load_state_dict(torch.load(pretrained_model, map_location='cpu'))\n",
    "\n",
    "    # Set the model in evaluation mode. In this case this is for the Dropout layers\n",
    "    model.eval()\n",
    "    \n",
    "    # Run test for each epsilon\n",
    "    accuracies = []\n",
    "    examples = []\n",
    "    \n",
    "    for eps in epsilons:\n",
    "        acc, ex = test(model, device, test_loader, eps)\n",
    "        accuracies.append(acc)\n",
    "        examples.append(ex)\n",
    "        \n",
    "    all_accuracies.append(accuracies)\n",
    "    all_examples.append(examples)\n",
    "    "
   ]
  },
  {
   "cell_type": "code",
   "execution_count": 47,
   "metadata": {},
   "outputs": [
    {
     "data": {
      "image/png": "[encoded data removed]",
      "text/plain": [
       "<Figure size 576x720 with 35 Axes>"
      ]
     },
     "metadata": {},
     "output_type": "display_data"
    }
   ],
   "source": [
    "# Plot several examples of adversarial samples at each epsilon\n",
    "cnt = 0\n",
    "plt.figure(figsize=(8,10))\n",
    "for i in range(len(epsilons)):\n",
    "    for j in range(len(examples[i])):\n",
    "        cnt += 1\n",
    "        plt.subplot(len(epsilons),len(examples[0]),cnt)\n",
    "        plt.xticks([], [])\n",
    "        plt.yticks([], [])\n",
    "        if j == 0:\n",
    "            plt.ylabel(\"Eps: {}\".format(epsilons[i]), fontsize=14)\n",
    "        orig,adv,ex = examples[i][j]\n",
    "        plt.title(\"{} -> {}\".format(orig, adv))\n",
    "        plt.imshow(ex, cmap=\"gray\")\n",
    "plt.tight_layout()\n",
    "plt.show()"
   ]
  },
  {
   "cell_type": "code",
   "execution_count": 26,
   "metadata": {},
   "outputs": [
    {
     "data": {
      "image/png": "[encoded data removed]",
      "text/plain": [
       "<Figure size 360x360 with 1 Axes>"
      ]
     },
     "metadata": {
      "needs_background": "light"
     },
     "output_type": "display_data"
    }
   ],
   "source": [
    "plt.figure(figsize=(5,5))\n",
    "symbs = ['*-', 'o-', 's-', 'd-', '+-', 'x-', '^-']\n",
    "for idx, sl in enumerate(all_accuracies):\n",
    "    plt.plot(epsilons, sl, symbs[idx])\n",
    "    \n",
    "#     plt.plot(epsilons, np.array(all_accuracies).T, \"*-\")\n",
    "plt.yticks(np.arange(0, 1.1, step=0.1))\n",
    "plt.xticks(np.arange(0, .35, step=0.05))\n",
    "plt.title(\"Accuracy vs Epsilon\")\n",
    "plt.xlabel(\"Epsilon\")\n",
    "plt.ylabel(\"Accuracy\")\n",
    "plt.legend(slopes)\n",
    "plt.show()"
   ]
  },
  {
   "cell_type": "code",
   "execution_count": 370,
   "metadata": {},
   "outputs": [],
   "source": [
    "def imshow(img, title):\n",
    "    npimg = img.numpy()\n",
    "    fig = plt.figure(figsize = (5, 15))\n",
    "    plt.imshow(np.transpose(npimg,(1,2,0)))\n",
    "    plt.title(title)\n",
    "    plt.show()\n"
   ]
  }
 ],
 "metadata": {
  "colab": {
   "name": "fgsm_tutorial.ipynb",
   "provenance": []
  },
  "kernelspec": {
   "display_name": "Python 3",
   "language": "python",
   "name": "python3"
  },
  "language_info": {
   "codemirror_mode": {
    "name": "ipython",
    "version": 3
   },
   "file_extension": ".py",
   "mimetype": "text/x-python",
   "name": "python",
   "nbconvert_exporter": "python",
   "pygments_lexer": "ipython3",
   "version": "3.7.3"
  }
 },
 "nbformat": 4,
 "nbformat_minor": 4
}
