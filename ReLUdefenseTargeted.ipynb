{
 "cells": [
  {
   "cell_type": "code",
   "execution_count": null,
   "metadata": {
    "colab": {},
    "colab_type": "code",
    "id": "hYUA6YiKChHb"
   },
   "outputs": [],
   "source": [
    "from __future__ import print_function\n",
    "import torch\n",
    "import torch.nn as nn\n",
    "import torch.nn.functional as F\n",
    "import torch.optim as optim\n",
    "from torchvision import datasets, transforms\n",
    "import numpy as np\n",
    "import matplotlib.pyplot as plt \n"
   ]
  },
  {
   "cell_type": "code",
   "execution_count": null,
   "metadata": {
    "colab": {},
    "colab_type": "code",
    "id": "_P5HntXqMZd3"
   },
   "outputs": [],
   "source": [
    "# from torchattacks import RPGD"
   ]
  },
  {
   "cell_type": "code",
   "execution_count": null,
   "metadata": {
    "colab": {},
    "colab_type": "code",
    "id": "ryOUgVa5C4bO"
   },
   "outputs": [],
   "source": [
    "epsilons = [0, .05, .1, .15, .2, .25, .3]\n",
    "pretrained_model = '/gdrive/My Drive/ReLU_defense/models/lenet_mnist_model.pth' #pretrained_model = \"lenet_mnist_model.pth\"\n",
    "use_cuda=True"
   ]
  },
  {
   "cell_type": "code",
   "execution_count": 13,
   "metadata": {
    "colab": {
     "base_uri": "https://localhost:8080/",
     "height": 34
    },
    "colab_type": "code",
    "id": "6qNIkiFQDDCo",
    "outputId": "193295c1-d762-4e30-fe6f-69b12d7dd040"
   },
   "outputs": [
    {
     "name": "stdout",
     "output_type": "stream",
     "text": [
      "Drive already mounted at /gdrive; to attempt to forcibly remount, call drive.mount(\"/gdrive\", force_remount=True).\n"
     ]
    }
   ],
   "source": [
    "from google.colab import drive\n",
    "drive.mount('/gdrive')\n"
   ]
  },
  {
   "cell_type": "code",
   "execution_count": null,
   "metadata": {
    "colab": {},
    "colab_type": "code",
    "id": "_heP-88cDD-c"
   },
   "outputs": [],
   "source": [
    "# simply define a silu function\n",
    "def srelu(input, slope):\n",
    "    return slope * F.relu(input)\n",
    "\n",
    "class SReLU(nn.Module):\n",
    "    def __init__(self):\n",
    "        super().__init__() # init the base class\n",
    "\n",
    "    def forward(self, input, slope):\n",
    "        return srelu(input, slope) # simply apply already implemented SiLU"
   ]
  },
  {
   "cell_type": "code",
   "execution_count": 6,
   "metadata": {
    "colab": {
     "base_uri": "https://localhost:8080/",
     "height": 34
    },
    "colab_type": "code",
    "id": "2-TWvgBuCwAr",
    "outputId": "3d27bb92-daf4-481a-a4a1-17cd85ac8642"
   },
   "outputs": [
    {
     "name": "stdout",
     "output_type": "stream",
     "text": [
      "CUDA Available:  True\n"
     ]
    }
   ],
   "source": [
    "# LeNet Model definition\n",
    "class NetTest(nn.Module):\n",
    "    def __init__(self, slope):\n",
    "        super(NetTest, self).__init__()\n",
    "        self.conv1 = nn.Conv2d(1, 10, kernel_size=5)\n",
    "        self.conv2 = nn.Conv2d(10, 20, kernel_size=5)\n",
    "        self.conv2_drop = nn.Dropout2d()\n",
    "        self.fc1 = nn.Linear(320, 50)\n",
    "        self.fc2 = nn.Linear(50, 10)\n",
    "        self.slope = slope\n",
    "\n",
    "    def forward(self, x):\n",
    "#         s = torch.tensor(.7, requires_grad=False)        \n",
    "        x = srelu(F.max_pool2d(self.conv1(x), 2), self.slope)\n",
    "        x = srelu(F.max_pool2d(self.conv2_drop(self.conv2(x)), 2), self.slope)    \n",
    "#         x = F.relu(F.max_pool2d(self.conv2_drop(self.conv2(x)), 2))\n",
    "        x = x.view(-1, 320)\n",
    "        x = srelu(self.fc1(x), self.slope)\n",
    "#         x = F.relu(self.fc1(x))        \n",
    "        x = F.dropout(x, training=self.training)\n",
    "        x = self.fc2(x)\n",
    "        return F.log_softmax(x, dim=1) # *********** use this with nll_loss!\n",
    "\n",
    "print(\"CUDA Available: \",torch.cuda.is_available())\n",
    "device = torch.device(\"cuda\" if (use_cuda and torch.cuda.is_available()) else \"cpu\")\n",
    "\n"
   ]
  },
  {
   "cell_type": "code",
   "execution_count": 7,
   "metadata": {
    "colab": {
     "base_uri": "https://localhost:8080/",
     "height": 315,
     "referenced_widgets": [
      "6016e07df7a4491b9c3e6089dff5c986",
      "305e1aa593fc4e758b92ffe3d312aacb",
      "485814693c78408e82a3c4e5ca92ba72",
      "cb1724f393424177b8d4d169bc8942f5",
      "ab58977381e04a2cbbd3a63c29055e3f",
      "1cb7a6ece8824da2a606227324d1b286",
      "dbb388c6e9014587978fe3948b1ce387",
      "f4456754b08f407192b9d5217e2d14cd",
      "afaa7b2b1cce41d3a266088707e3fdba",
      "c23975450096406aadc3cd998ea2c531",
      "98c734857d364fb195c18681a871cadd",
      "903a1a33cdd840dba26ab0a8b3f39375",
      "599517426bda4da385aebc88a2132ad5",
      "a7178d7cc424449aabc6258c822ae606",
      "0528004d5dd64af9be6370f5466d6375",
      "8a2c178243604434b76913ec4fb8bddc",
      "633116c16b514412a082c707b21803fd",
      "c95fdfd7099445dfaa5c5bd50cfa4c80",
      "61cc434d46ff40ba8dbbd23253f43fac",
      "b966f36498dc49fb8674c6e11ade6cdd",
      "4ef62016a7a14638937c6f8d528d902a",
      "19d7c442cad043c69727868723e98a2d",
      "7fd91f1989384ecfa60827424443ab1c",
      "02c54738c35246ad97c64acbbfd5740f",
      "fb2a48d37ca84016999ed2f96a6a739c",
      "17c74d2632cb47ff8f8d968565dc1d00",
      "3939b4b2956447468f6d5901557680a6",
      "5419b1d83a0c410d891de3a81f61a558",
      "b82795cf45224076a6329fcec7128af5",
      "60f2a0fc9d71435392210f23da1f8113",
      "d4050736189c46889a83f32b57b5b3c1",
      "12a75047537a4b99a08792336a85f286"
     ]
    },
    "colab_type": "code",
    "id": "WiEI-vEcNTQr",
    "outputId": "1c334c71-4bea-4cdc-ee31-eb5750c3c8cf"
   },
   "outputs": [
    {
     "name": "stdout",
     "output_type": "stream",
     "text": [
      "Downloading http://yann.lecun.com/exdb/mnist/train-images-idx3-ubyte.gz to ../data/MNIST/raw/train-images-idx3-ubyte.gz\n"
     ]
    },
    {
     "data": {
      "application/vnd.jupyter.widget-view+json": {
       "model_id": "6016e07df7a4491b9c3e6089dff5c986",
       "version_major": 2,
       "version_minor": 0
      },
      "text/plain": [
       "HBox(children=(IntProgress(value=1, bar_style='info', max=1), HTML(value='')))"
      ]
     },
     "metadata": {
      "tags": []
     },
     "output_type": "display_data"
    },
    {
     "name": "stdout",
     "output_type": "stream",
     "text": [
      "Extracting ../data/MNIST/raw/train-images-idx3-ubyte.gz to ../data/MNIST/raw\n",
      "Downloading http://yann.lecun.com/exdb/mnist/train-labels-idx1-ubyte.gz to ../data/MNIST/raw/train-labels-idx1-ubyte.gz\n"
     ]
    },
    {
     "data": {
      "application/vnd.jupyter.widget-view+json": {
       "model_id": "afaa7b2b1cce41d3a266088707e3fdba",
       "version_major": 2,
       "version_minor": 0
      },
      "text/plain": [
       "HBox(children=(IntProgress(value=1, bar_style='info', max=1), HTML(value='')))"
      ]
     },
     "metadata": {
      "tags": []
     },
     "output_type": "display_data"
    },
    {
     "name": "stdout",
     "output_type": "stream",
     "text": [
      "Extracting ../data/MNIST/raw/train-labels-idx1-ubyte.gz to ../data/MNIST/raw\n",
      "Downloading http://yann.lecun.com/exdb/mnist/t10k-images-idx3-ubyte.gz to ../data/MNIST/raw/t10k-images-idx3-ubyte.gz\n"
     ]
    },
    {
     "data": {
      "application/vnd.jupyter.widget-view+json": {
       "model_id": "633116c16b514412a082c707b21803fd",
       "version_major": 2,
       "version_minor": 0
      },
      "text/plain": [
       "HBox(children=(IntProgress(value=1, bar_style='info', max=1), HTML(value='')))"
      ]
     },
     "metadata": {
      "tags": []
     },
     "output_type": "display_data"
    },
    {
     "name": "stdout",
     "output_type": "stream",
     "text": [
      "Extracting ../data/MNIST/raw/t10k-images-idx3-ubyte.gz to ../data/MNIST/raw\n",
      "Downloading http://yann.lecun.com/exdb/mnist/t10k-labels-idx1-ubyte.gz to ../data/MNIST/raw/t10k-labels-idx1-ubyte.gz\n"
     ]
    },
    {
     "data": {
      "application/vnd.jupyter.widget-view+json": {
       "model_id": "fb2a48d37ca84016999ed2f96a6a739c",
       "version_major": 2,
       "version_minor": 0
      },
      "text/plain": [
       "HBox(children=(IntProgress(value=1, bar_style='info', max=1), HTML(value='')))"
      ]
     },
     "metadata": {
      "tags": []
     },
     "output_type": "display_data"
    },
    {
     "name": "stdout",
     "output_type": "stream",
     "text": [
      "Extracting ../data/MNIST/raw/t10k-labels-idx1-ubyte.gz to ../data/MNIST/raw\n",
      "Processing...\n",
      "Done!\n"
     ]
    }
   ],
   "source": [
    "test_loader = torch.utils.data.DataLoader(\n",
    "    datasets.MNIST('../data', train=False, download=True, transform=transforms.Compose([\n",
    "            transforms.ToTensor(),\n",
    "            ])), \n",
    "        batch_size=1, shuffle=False)"
   ]
  },
  {
   "cell_type": "code",
   "execution_count": null,
   "metadata": {
    "colab": {},
    "colab_type": "code",
    "id": "WGGj77fmr0lZ"
   },
   "outputs": [],
   "source": [
    "# FGSM attack code\n",
    "def fgsm_attack(image, epsilon, data_grad):\n",
    "    # Collect the element-wise sign of the data gradient\n",
    "    sign_data_grad = data_grad.sign()\n",
    "    # Create the perturbed image by adjusting each pixel of the input image\n",
    "    perturbed_image = image + epsilon*sign_data_grad\n",
    "    # Adding clipping to maintain [0,1] range\n",
    "    perturbed_image = torch.clamp(perturbed_image, 0, 1)\n",
    "    # Return the perturbed image\n",
    "    return perturbed_image"
   ]
  },
  {
   "cell_type": "code",
   "execution_count": null,
   "metadata": {
    "colab": {},
    "colab_type": "code",
    "id": "DI-KiQJwrzSV"
   },
   "outputs": [],
   "source": [
    "def test( model, device, test_loader, epsilon, myTarget):\n",
    "\n",
    "    # Accuracy counter\n",
    "    correct = 0\n",
    "    adv_examples = []\n",
    "\n",
    "    # Loop over all examples in test set\n",
    "    for data, target in test_loader:\n",
    "\n",
    "        # Send the data and label to the device\n",
    "        data, target, myTarget = data.to(device), target.to(device), myTarget.to(device)\n",
    "\n",
    "        # Set requires_grad attribute of tensor. Important for Attack\n",
    "        data.requires_grad = True\n",
    "\n",
    "        # Forward pass the data through the model\n",
    "        output = model(data)\n",
    "        init_pred = output.max(1, keepdim=True)[1] # get the index of the max log-probability\n",
    "\n",
    "        if init_pred.item() == myTarget.item():            \n",
    "            continue\n",
    "\n",
    "        # Calculate the loss\n",
    "        # loss = F.nll_loss(output, target)\n",
    "\n",
    "        loss = F.nll_loss(output, myTarget)        \n",
    "\n",
    "        # Zero all existing gradients\n",
    "        model.zero_grad()\n",
    "\n",
    "        # Calculate gradients of model in backward pass\n",
    "        loss.backward()\n",
    "\n",
    "        # Collect datagrad\n",
    "        data_grad = data.grad.data\n",
    "\n",
    "        # Call FGSM Attack\n",
    "        perturbed_data = fgsm_attack(data, epsilon, -1*data_grad)\n",
    "\n",
    "        # Re-classify the perturbed image\n",
    "        output = model(perturbed_data)\n",
    "\n",
    "        # Check for success\n",
    "        final_pred = output.max(1, keepdim=True)[1] # get the index of the max log-probability\n",
    "        if final_pred.item() == myTarget.item():\n",
    "            correct += 1\n",
    "            # Special case for saving 0 epsilon examples\n",
    "            if (len(adv_examples) < 5):\n",
    "                adv_ex = perturbed_data.squeeze().detach().cpu().numpy()\n",
    "                adv_examples.append( (init_pred.item(), final_pred.item(), adv_ex) )\n",
    "#         else:\n",
    "#             # Save some adv examples for visualization later\n",
    "#             if len(adv_examples) < 5:\n",
    "#                 adv_ex = perturbed_data.squeeze().detach().cpu().numpy()\n",
    "#                 adv_examples.append( (init_pred.item(), final_pred.item(), adv_ex) )\n",
    "\n",
    "    # Calculate final accuracy for this epsilon\n",
    "    final_acc = correct/float(len(test_loader))\n",
    "    print(\"Epsilon: {}\\tTest Accuracy = {} / {} = {}\".format(epsilon, correct, len(test_loader), final_acc))\n",
    "\n",
    "    # Return the accuracy and an adversarial example\n",
    "    return final_acc, adv_examples"
   ]
  },
  {
   "cell_type": "code",
   "execution_count": null,
   "metadata": {
    "colab": {
     "base_uri": "https://localhost:8080/",
     "height": 1000
    },
    "colab_type": "code",
    "id": "yAf8c_q5C1G8",
    "outputId": "289179a0-43e1-4b39-f8e7-836f07a8bcf9"
   },
   "outputs": [
    {
     "name": "stdout",
     "output_type": "stream",
     "text": [
      "\n",
      " Running digit=0 slope=0.5 ... \n",
      "Epsilon: 0\tTest Accuracy = 0 / 10000 = 0.0\n",
      "Epsilon: 0.05\tTest Accuracy = 57 / 10000 = 0.0057\n",
      "Epsilon: 0.1\tTest Accuracy = 157 / 10000 = 0.0157\n",
      "Epsilon: 0.15\tTest Accuracy = 335 / 10000 = 0.0335\n",
      "Epsilon: 0.2\tTest Accuracy = 641 / 10000 = 0.0641\n",
      "Epsilon: 0.25\tTest Accuracy = 909 / 10000 = 0.0909\n",
      "Epsilon: 0.3\tTest Accuracy = 1104 / 10000 = 0.1104\n",
      "\n",
      " Running digit=0 slope=1 ... \n",
      "Epsilon: 0\tTest Accuracy = 0 / 10000 = 0.0\n",
      "Epsilon: 0.05\tTest Accuracy = 34 / 10000 = 0.0034\n",
      "Epsilon: 0.1\tTest Accuracy = 129 / 10000 = 0.0129\n",
      "Epsilon: 0.15\tTest Accuracy = 358 / 10000 = 0.0358\n",
      "Epsilon: 0.2\tTest Accuracy = 737 / 10000 = 0.0737\n",
      "Epsilon: 0.25\tTest Accuracy = 1189 / 10000 = 0.1189\n",
      "Epsilon: 0.3\tTest Accuracy = 1520 / 10000 = 0.152\n",
      "\n",
      " Running digit=0 slope=2 ... \n",
      "Epsilon: 0\tTest Accuracy = 0 / 10000 = 0.0\n",
      "Epsilon: 0.05\tTest Accuracy = 34 / 10000 = 0.0034\n",
      "Epsilon: 0.1\tTest Accuracy = 109 / 10000 = 0.0109\n",
      "Epsilon: 0.15\tTest Accuracy = 265 / 10000 = 0.0265\n",
      "Epsilon: 0.2\tTest Accuracy = 545 / 10000 = 0.0545\n",
      "Epsilon: 0.25\tTest Accuracy = 896 / 10000 = 0.0896\n",
      "Epsilon: 0.3\tTest Accuracy = 1182 / 10000 = 0.1182\n",
      "\n",
      " Running digit=0 slope=5 ... \n",
      "Epsilon: 0\tTest Accuracy = 0 / 10000 = 0.0\n",
      "Epsilon: 0.05\tTest Accuracy = 32 / 10000 = 0.0032\n",
      "Epsilon: 0.1\tTest Accuracy = 105 / 10000 = 0.0105\n",
      "Epsilon: 0.15\tTest Accuracy = 263 / 10000 = 0.0263\n",
      "Epsilon: 0.2\tTest Accuracy = 529 / 10000 = 0.0529\n",
      "Epsilon: 0.25\tTest Accuracy = 865 / 10000 = 0.0865\n",
      "Epsilon: 0.3\tTest Accuracy = 1148 / 10000 = 0.1148\n",
      "\n",
      " Running digit=0 slope=10 ... \n",
      "Epsilon: 0\tTest Accuracy = 0 / 10000 = 0.0\n",
      "Epsilon: 0.05\tTest Accuracy = 32 / 10000 = 0.0032\n",
      "Epsilon: 0.1\tTest Accuracy = 110 / 10000 = 0.011\n",
      "Epsilon: 0.15\tTest Accuracy = 263 / 10000 = 0.0263\n",
      "Epsilon: 0.2\tTest Accuracy = 528 / 10000 = 0.0528\n",
      "Epsilon: 0.25\tTest Accuracy = 862 / 10000 = 0.0862\n",
      "Epsilon: 0.3\tTest Accuracy = 1154 / 10000 = 0.1154\n",
      "\n",
      " Running digit=0 slope=100 ... \n",
      "Epsilon: 0\tTest Accuracy = 0 / 10000 = 0.0\n",
      "Epsilon: 0.05\tTest Accuracy = 34 / 10000 = 0.0034\n",
      "Epsilon: 0.1\tTest Accuracy = 109 / 10000 = 0.0109\n",
      "Epsilon: 0.15\tTest Accuracy = 259 / 10000 = 0.0259\n",
      "Epsilon: 0.2\tTest Accuracy = 531 / 10000 = 0.0531\n",
      "Epsilon: 0.25\tTest Accuracy = 870 / 10000 = 0.087\n",
      "Epsilon: 0.3\tTest Accuracy = 1153 / 10000 = 0.1153\n"
     ]
    },
    {
     "data": {
      "image/png": "[encoded data removed]",
      "text/plain": [
       "<Figure size 360x360 with 1 Axes>"
      ]
     },
     "metadata": {
      "needs_background": "light",
      "tags": []
     },
     "output_type": "display_data"
    },
    {
     "name": "stdout",
     "output_type": "stream",
     "text": [
      "\n",
      " Running digit=1 slope=0.5 ... \n",
      "Epsilon: 0\tTest Accuracy = 0 / 10000 = 0.0\n",
      "Epsilon: 0.05\tTest Accuracy = 140 / 10000 = 0.014\n",
      "Epsilon: 0.1\tTest Accuracy = 439 / 10000 = 0.0439\n",
      "Epsilon: 0.15\tTest Accuracy = 1201 / 10000 = 0.1201\n",
      "Epsilon: 0.2\tTest Accuracy = 2554 / 10000 = 0.2554\n",
      "Epsilon: 0.25\tTest Accuracy = 3732 / 10000 = 0.3732\n",
      "Epsilon: 0.3\tTest Accuracy = 4545 / 10000 = 0.4545\n",
      "\n",
      " Running digit=1 slope=1 ... \n",
      "Epsilon: 0\tTest Accuracy = 0 / 10000 = 0.0\n",
      "Epsilon: 0.05\tTest Accuracy = 41 / 10000 = 0.0041\n",
      "Epsilon: 0.1\tTest Accuracy = 151 / 10000 = 0.0151\n",
      "Epsilon: 0.15\tTest Accuracy = 451 / 10000 = 0.0451\n",
      "Epsilon: 0.2\tTest Accuracy = 1002 / 10000 = 0.1002\n",
      "Epsilon: 0.25\tTest Accuracy = 1758 / 10000 = 0.1758\n",
      "Epsilon: 0.3\tTest Accuracy = 2447 / 10000 = 0.2447\n",
      "\n",
      " Running digit=1 slope=2 ... \n",
      "Epsilon: 0\tTest Accuracy = 0 / 10000 = 0.0\n",
      "Epsilon: 0.05\tTest Accuracy = 37 / 10000 = 0.0037\n",
      "Epsilon: 0.1\tTest Accuracy = 108 / 10000 = 0.0108\n",
      "Epsilon: 0.15\tTest Accuracy = 291 / 10000 = 0.0291\n",
      "Epsilon: 0.2\tTest Accuracy = 637 / 10000 = 0.0637\n",
      "Epsilon: 0.25\tTest Accuracy = 1111 / 10000 = 0.1111\n",
      "Epsilon: 0.3\tTest Accuracy = 1613 / 10000 = 0.1613\n",
      "\n",
      " Running digit=1 slope=5 ... \n",
      "Epsilon: 0\tTest Accuracy = 0 / 10000 = 0.0\n",
      "Epsilon: 0.05\tTest Accuracy = 38 / 10000 = 0.0038\n",
      "Epsilon: 0.1\tTest Accuracy = 112 / 10000 = 0.0112\n",
      "Epsilon: 0.15\tTest Accuracy = 283 / 10000 = 0.0283\n",
      "Epsilon: 0.2\tTest Accuracy = 612 / 10000 = 0.0612\n",
      "Epsilon: 0.25\tTest Accuracy = 1061 / 10000 = 0.1061\n",
      "Epsilon: 0.3\tTest Accuracy = 1542 / 10000 = 0.1542\n",
      "\n",
      " Running digit=1 slope=10 ... \n",
      "Epsilon: 0\tTest Accuracy = 0 / 10000 = 0.0\n",
      "Epsilon: 0.05\tTest Accuracy = 38 / 10000 = 0.0038\n",
      "Epsilon: 0.1\tTest Accuracy = 111 / 10000 = 0.0111\n",
      "Epsilon: 0.15\tTest Accuracy = 284 / 10000 = 0.0284\n",
      "Epsilon: 0.2\tTest Accuracy = 609 / 10000 = 0.0609\n",
      "Epsilon: 0.25\tTest Accuracy = 1067 / 10000 = 0.1067\n",
      "Epsilon: 0.3\tTest Accuracy = 1549 / 10000 = 0.1549\n",
      "\n",
      " Running digit=1 slope=100 ... \n",
      "Epsilon: 0\tTest Accuracy = 0 / 10000 = 0.0\n",
      "Epsilon: 0.05\tTest Accuracy = 38 / 10000 = 0.0038\n",
      "Epsilon: 0.1\tTest Accuracy = 110 / 10000 = 0.011\n",
      "Epsilon: 0.15\tTest Accuracy = 283 / 10000 = 0.0283\n",
      "Epsilon: 0.2\tTest Accuracy = 613 / 10000 = 0.0613\n",
      "Epsilon: 0.25\tTest Accuracy = 1074 / 10000 = 0.1074\n",
      "Epsilon: 0.3\tTest Accuracy = 1553 / 10000 = 0.1553\n"
     ]
    },
    {
     "data": {
      "image/png": "[encoded data removed]",
      "text/plain": [
       "<Figure size 360x360 with 1 Axes>"
      ]
     },
     "metadata": {
      "needs_background": "light",
      "tags": []
     },
     "output_type": "display_data"
    },
    {
     "name": "stdout",
     "output_type": "stream",
     "text": [
      "\n",
      " Running digit=2 slope=0.5 ... \n",
      "Epsilon: 0\tTest Accuracy = 0 / 10000 = 0.0\n",
      "Epsilon: 0.05\tTest Accuracy = 120 / 10000 = 0.012\n",
      "Epsilon: 0.1\tTest Accuracy = 275 / 10000 = 0.0275\n",
      "Epsilon: 0.15\tTest Accuracy = 586 / 10000 = 0.0586\n",
      "Epsilon: 0.2\tTest Accuracy = 1247 / 10000 = 0.1247\n",
      "Epsilon: 0.25\tTest Accuracy = 2196 / 10000 = 0.2196\n",
      "Epsilon: 0.3\tTest Accuracy = 3225 / 10000 = 0.3225\n",
      "\n",
      " Running digit=2 slope=1 ... \n",
      "Epsilon: 0\tTest Accuracy = 0 / 10000 = 0.0\n",
      "Epsilon: 0.05\tTest Accuracy = 111 / 10000 = 0.0111\n",
      "Epsilon: 0.1\tTest Accuracy = 381 / 10000 = 0.0381\n",
      "Epsilon: 0.15\tTest Accuracy = 1129 / 10000 = 0.1129\n",
      "Epsilon: 0.2\tTest Accuracy = 2852 / 10000 = 0.2852\n",
      "Epsilon: 0.25\tTest Accuracy = 5067 / 10000 = 0.5067\n",
      "Epsilon: 0.3\tTest Accuracy = 6746 / 10000 = 0.6746\n",
      "\n",
      " Running digit=2 slope=2 ... \n",
      "Epsilon: 0\tTest Accuracy = 0 / 10000 = 0.0\n",
      "Epsilon: 0.05\tTest Accuracy = 118 / 10000 = 0.0118\n",
      "Epsilon: 0.1\tTest Accuracy = 370 / 10000 = 0.037\n",
      "Epsilon: 0.15\tTest Accuracy = 1108 / 10000 = 0.1108\n",
      "Epsilon: 0.2\tTest Accuracy = 2746 / 10000 = 0.2746\n",
      "Epsilon: 0.25\tTest Accuracy = 4829 / 10000 = 0.4829\n",
      "Epsilon: 0.3\tTest Accuracy = 6591 / 10000 = 0.6591\n",
      "\n",
      " Running digit=2 slope=5 ... \n",
      "Epsilon: 0\tTest Accuracy = 0 / 10000 = 0.0\n",
      "Epsilon: 0.05\tTest Accuracy = 114 / 10000 = 0.0114\n",
      "Epsilon: 0.1\tTest Accuracy = 369 / 10000 = 0.0369\n",
      "Epsilon: 0.15\tTest Accuracy = 1093 / 10000 = 0.1093\n",
      "Epsilon: 0.2\tTest Accuracy = 2720 / 10000 = 0.272\n",
      "Epsilon: 0.25\tTest Accuracy = 4849 / 10000 = 0.4849\n",
      "Epsilon: 0.3\tTest Accuracy = 6577 / 10000 = 0.6577\n",
      "\n",
      " Running digit=2 slope=10 ... \n",
      "Epsilon: 0\tTest Accuracy = 0 / 10000 = 0.0\n",
      "Epsilon: 0.05\tTest Accuracy = 116 / 10000 = 0.0116\n",
      "Epsilon: 0.1\tTest Accuracy = 366 / 10000 = 0.0366\n",
      "Epsilon: 0.15\tTest Accuracy = 1090 / 10000 = 0.109\n",
      "Epsilon: 0.2\tTest Accuracy = 2722 / 10000 = 0.2722\n",
      "Epsilon: 0.25\tTest Accuracy = 4848 / 10000 = 0.4848\n",
      "Epsilon: 0.3\tTest Accuracy = 6607 / 10000 = 0.6607\n",
      "\n",
      " Running digit=2 slope=100 ... \n",
      "Epsilon: 0\tTest Accuracy = 0 / 10000 = 0.0\n",
      "Epsilon: 0.05\tTest Accuracy = 117 / 10000 = 0.0117\n",
      "Epsilon: 0.1\tTest Accuracy = 366 / 10000 = 0.0366\n",
      "Epsilon: 0.15\tTest Accuracy = 1098 / 10000 = 0.1098\n",
      "Epsilon: 0.2\tTest Accuracy = 2724 / 10000 = 0.2724\n",
      "Epsilon: 0.25\tTest Accuracy = 4845 / 10000 = 0.4845\n",
      "Epsilon: 0.3\tTest Accuracy = 6610 / 10000 = 0.661\n"
     ]
    },
    {
     "data": {
      "image/png": "[encoded data removed]",
      "text/plain": [
       "<Figure size 360x360 with 1 Axes>"
      ]
     },
     "metadata": {
      "needs_background": "light",
      "tags": []
     },
     "output_type": "display_data"
    },
    {
     "name": "stdout",
     "output_type": "stream",
     "text": [
      "\n",
      " Running digit=3 slope=0.5 ... \n",
      "Epsilon: 0\tTest Accuracy = 0 / 10000 = 0.0\n",
      "Epsilon: 0.05\tTest Accuracy = 72 / 10000 = 0.0072\n",
      "Epsilon: 0.1\tTest Accuracy = 116 / 10000 = 0.0116\n",
      "Epsilon: 0.15\tTest Accuracy = 171 / 10000 = 0.0171\n",
      "Epsilon: 0.2\tTest Accuracy = 306 / 10000 = 0.0306\n",
      "Epsilon: 0.25\tTest Accuracy = 627 / 10000 = 0.0627\n",
      "Epsilon: 0.3\tTest Accuracy = 1124 / 10000 = 0.1124\n",
      "\n",
      " Running digit=3 slope=1 ... \n",
      "Epsilon: 0\tTest Accuracy = 0 / 10000 = 0.0\n",
      "Epsilon: 0.05\tTest Accuracy = 63 / 10000 = 0.0063\n",
      "Epsilon: 0.1\tTest Accuracy = 250 / 10000 = 0.025\n",
      "Epsilon: 0.15\tTest Accuracy = 798 / 10000 = 0.0798\n",
      "Epsilon: 0.2\tTest Accuracy = 1928 / 10000 = 0.1928\n",
      "Epsilon: 0.25\tTest Accuracy = 3496 / 10000 = 0.3496\n",
      "Epsilon: 0.3\tTest Accuracy = 4529 / 10000 = 0.4529\n",
      "\n",
      " Running digit=3 slope=2 ... \n",
      "Epsilon: 0\tTest Accuracy = 0 / 10000 = 0.0\n",
      "Epsilon: 0.05\tTest Accuracy = 68 / 10000 = 0.0068\n",
      "Epsilon: 0.1\tTest Accuracy = 273 / 10000 = 0.0273\n",
      "Epsilon: 0.15\tTest Accuracy = 783 / 10000 = 0.0783\n",
      "Epsilon: 0.2\tTest Accuracy = 1903 / 10000 = 0.1903\n",
      "Epsilon: 0.25\tTest Accuracy = 3457 / 10000 = 0.3457\n",
      "Epsilon: 0.3\tTest Accuracy = 4620 / 10000 = 0.462\n",
      "\n",
      " Running digit=3 slope=5 ... \n",
      "Epsilon: 0\tTest Accuracy = 0 / 10000 = 0.0\n",
      "Epsilon: 0.05\tTest Accuracy = 66 / 10000 = 0.0066\n",
      "Epsilon: 0.1\tTest Accuracy = 262 / 10000 = 0.0262\n",
      "Epsilon: 0.15\tTest Accuracy = 797 / 10000 = 0.0797\n",
      "Epsilon: 0.2\tTest Accuracy = 1906 / 10000 = 0.1906\n",
      "Epsilon: 0.25\tTest Accuracy = 3462 / 10000 = 0.3462\n",
      "Epsilon: 0.3\tTest Accuracy = 4653 / 10000 = 0.4653\n",
      "\n",
      " Running digit=3 slope=10 ... \n",
      "Epsilon: 0\tTest Accuracy = 0 / 10000 = 0.0\n",
      "Epsilon: 0.05\tTest Accuracy = 66 / 10000 = 0.0066\n",
      "Epsilon: 0.1\tTest Accuracy = 263 / 10000 = 0.0263\n",
      "Epsilon: 0.15\tTest Accuracy = 789 / 10000 = 0.0789\n",
      "Epsilon: 0.2\tTest Accuracy = 1902 / 10000 = 0.1902\n",
      "Epsilon: 0.25\tTest Accuracy = 3447 / 10000 = 0.3447\n",
      "Epsilon: 0.3\tTest Accuracy = 4655 / 10000 = 0.4655\n",
      "\n",
      " Running digit=3 slope=100 ... \n",
      "Epsilon: 0\tTest Accuracy = 0 / 10000 = 0.0\n",
      "Epsilon: 0.05\tTest Accuracy = 65 / 10000 = 0.0065\n",
      "Epsilon: 0.1\tTest Accuracy = 260 / 10000 = 0.026\n",
      "Epsilon: 0.15\tTest Accuracy = 784 / 10000 = 0.0784\n",
      "Epsilon: 0.2\tTest Accuracy = 1901 / 10000 = 0.1901\n",
      "Epsilon: 0.25\tTest Accuracy = 3442 / 10000 = 0.3442\n",
      "Epsilon: 0.3\tTest Accuracy = 4648 / 10000 = 0.4648\n"
     ]
    },
    {
     "data": {
      "image/png": "[encoded data removed]",
      "text/plain": [
       "<Figure size 360x360 with 1 Axes>"
      ]
     },
     "metadata": {
      "needs_background": "light",
      "tags": []
     },
     "output_type": "display_data"
    },
    {
     "name": "stdout",
     "output_type": "stream",
     "text": [
      "\n",
      " Running digit=4 slope=0.5 ... \n",
      "Epsilon: 0\tTest Accuracy = 0 / 10000 = 0.0\n",
      "Epsilon: 0.05\tTest Accuracy = 75 / 10000 = 0.0075\n",
      "Epsilon: 0.1\tTest Accuracy = 170 / 10000 = 0.017\n",
      "Epsilon: 0.15\tTest Accuracy = 392 / 10000 = 0.0392\n",
      "Epsilon: 0.2\tTest Accuracy = 794 / 10000 = 0.0794\n",
      "Epsilon: 0.25\tTest Accuracy = 1392 / 10000 = 0.1392\n",
      "Epsilon: 0.3\tTest Accuracy = 1850 / 10000 = 0.185\n",
      "\n",
      " Running digit=4 slope=1 ... \n",
      "Epsilon: 0\tTest Accuracy = 0 / 10000 = 0.0\n",
      "Epsilon: 0.05\tTest Accuracy = 70 / 10000 = 0.007\n",
      "Epsilon: 0.1\tTest Accuracy = 281 / 10000 = 0.0281\n",
      "Epsilon: 0.15\tTest Accuracy = 771 / 10000 = 0.0771\n",
      "Epsilon: 0.2\tTest Accuracy = 1523 / 10000 = 0.1523\n",
      "Epsilon: 0.25\tTest Accuracy = 2284 / 10000 = 0.2284\n",
      "Epsilon: 0.3\tTest Accuracy = 2904 / 10000 = 0.2904\n",
      "\n",
      " Running digit=4 slope=2 ... \n",
      "Epsilon: 0\tTest Accuracy = 0 / 10000 = 0.0\n",
      "Epsilon: 0.05\tTest Accuracy = 72 / 10000 = 0.0072\n",
      "Epsilon: 0.1\tTest Accuracy = 267 / 10000 = 0.0267\n",
      "Epsilon: 0.15\tTest Accuracy = 701 / 10000 = 0.0701\n",
      "Epsilon: 0.2\tTest Accuracy = 1316 / 10000 = 0.1316\n",
      "Epsilon: 0.25\tTest Accuracy = 2015 / 10000 = 0.2015\n",
      "Epsilon: 0.3\tTest Accuracy = 2611 / 10000 = 0.2611\n",
      "\n",
      " Running digit=4 slope=5 ... \n",
      "Epsilon: 0\tTest Accuracy = 0 / 10000 = 0.0\n",
      "Epsilon: 0.05\tTest Accuracy = 67 / 10000 = 0.0067\n",
      "Epsilon: 0.1\tTest Accuracy = 272 / 10000 = 0.0272\n",
      "Epsilon: 0.15\tTest Accuracy = 701 / 10000 = 0.0701\n",
      "Epsilon: 0.2\tTest Accuracy = 1321 / 10000 = 0.1321\n",
      "Epsilon: 0.25\tTest Accuracy = 2003 / 10000 = 0.2003\n",
      "Epsilon: 0.3\tTest Accuracy = 2617 / 10000 = 0.2617\n",
      "\n",
      " Running digit=4 slope=10 ... \n",
      "Epsilon: 0\tTest Accuracy = 0 / 10000 = 0.0\n",
      "Epsilon: 0.05\tTest Accuracy = 71 / 10000 = 0.0071\n",
      "Epsilon: 0.1\tTest Accuracy = 272 / 10000 = 0.0272\n",
      "Epsilon: 0.15\tTest Accuracy = 701 / 10000 = 0.0701\n",
      "Epsilon: 0.2\tTest Accuracy = 1320 / 10000 = 0.132\n",
      "Epsilon: 0.25\tTest Accuracy = 2001 / 10000 = 0.2001\n",
      "Epsilon: 0.3\tTest Accuracy = 2620 / 10000 = 0.262\n",
      "\n",
      " Running digit=4 slope=100 ... \n",
      "Epsilon: 0\tTest Accuracy = 0 / 10000 = 0.0\n",
      "Epsilon: 0.05\tTest Accuracy = 75 / 10000 = 0.0075\n",
      "Epsilon: 0.1\tTest Accuracy = 275 / 10000 = 0.0275\n",
      "Epsilon: 0.15\tTest Accuracy = 706 / 10000 = 0.0706\n",
      "Epsilon: 0.2\tTest Accuracy = 1333 / 10000 = 0.1333\n",
      "Epsilon: 0.25\tTest Accuracy = 2011 / 10000 = 0.2011\n",
      "Epsilon: 0.3\tTest Accuracy = 2617 / 10000 = 0.2617\n"
     ]
    },
    {
     "data": {
      "image/png": "[encoded data removed]",
      "text/plain": [
       "<Figure size 360x360 with 1 Axes>"
      ]
     },
     "metadata": {
      "needs_background": "light",
      "tags": []
     },
     "output_type": "display_data"
    },
    {
     "name": "stdout",
     "output_type": "stream",
     "text": [
      "\n",
      " Running digit=5 slope=0.5 ... \n",
      "Epsilon: 0\tTest Accuracy = 0 / 10000 = 0.0\n",
      "Epsilon: 0.05\tTest Accuracy = 316 / 10000 = 0.0316\n",
      "Epsilon: 0.1\tTest Accuracy = 867 / 10000 = 0.0867\n",
      "Epsilon: 0.15\tTest Accuracy = 1892 / 10000 = 0.1892\n",
      "Epsilon: 0.2\tTest Accuracy = 3404 / 10000 = 0.3404\n",
      "Epsilon: 0.25\tTest Accuracy = 4764 / 10000 = 0.4764\n",
      "Epsilon: 0.3\tTest Accuracy = 5669 / 10000 = 0.5669\n",
      "\n",
      " Running digit=5 slope=1 ... \n",
      "Epsilon: 0\tTest Accuracy = 0 / 10000 = 0.0\n",
      "Epsilon: 0.05\tTest Accuracy = 89 / 10000 = 0.0089\n",
      "Epsilon: 0.1\tTest Accuracy = 357 / 10000 = 0.0357\n",
      "Epsilon: 0.15\tTest Accuracy = 1080 / 10000 = 0.108\n",
      "Epsilon: 0.2\tTest Accuracy = 2418 / 10000 = 0.2418\n",
      "Epsilon: 0.25\tTest Accuracy = 4006 / 10000 = 0.4006\n",
      "Epsilon: 0.3\tTest Accuracy = 5296 / 10000 = 0.5296\n",
      "\n",
      " Running digit=5 slope=2 ... \n",
      "Epsilon: 0\tTest Accuracy = 0 / 10000 = 0.0\n",
      "Epsilon: 0.05\tTest Accuracy = 69 / 10000 = 0.0069\n",
      "Epsilon: 0.1\tTest Accuracy = 264 / 10000 = 0.0264\n",
      "Epsilon: 0.15\tTest Accuracy = 767 / 10000 = 0.0767\n",
      "Epsilon: 0.2\tTest Accuracy = 1732 / 10000 = 0.1732\n",
      "Epsilon: 0.25\tTest Accuracy = 2993 / 10000 = 0.2993\n",
      "Epsilon: 0.3\tTest Accuracy = 4184 / 10000 = 0.4184\n",
      "\n",
      " Running digit=5 slope=5 ... \n",
      "Epsilon: 0\tTest Accuracy = 0 / 10000 = 0.0\n",
      "Epsilon: 0.05\tTest Accuracy = 66 / 10000 = 0.0066\n",
      "Epsilon: 0.1\tTest Accuracy = 250 / 10000 = 0.025\n",
      "Epsilon: 0.15\tTest Accuracy = 729 / 10000 = 0.0729\n",
      "Epsilon: 0.2\tTest Accuracy = 1636 / 10000 = 0.1636\n",
      "Epsilon: 0.25\tTest Accuracy = 2866 / 10000 = 0.2866\n",
      "Epsilon: 0.3\tTest Accuracy = 3993 / 10000 = 0.3993\n",
      "\n",
      " Running digit=5 slope=10 ... \n",
      "Epsilon: 0\tTest Accuracy = 0 / 10000 = 0.0\n",
      "Epsilon: 0.05\tTest Accuracy = 66 / 10000 = 0.0066\n",
      "Epsilon: 0.1\tTest Accuracy = 251 / 10000 = 0.0251\n",
      "Epsilon: 0.15\tTest Accuracy = 718 / 10000 = 0.0718\n",
      "Epsilon: 0.2\tTest Accuracy = 1630 / 10000 = 0.163\n",
      "Epsilon: 0.25\tTest Accuracy = 2848 / 10000 = 0.2848\n",
      "Epsilon: 0.3\tTest Accuracy = 4001 / 10000 = 0.4001\n",
      "\n",
      " Running digit=5 slope=100 ... \n",
      "Epsilon: 0\tTest Accuracy = 0 / 10000 = 0.0\n",
      "Epsilon: 0.05\tTest Accuracy = 67 / 10000 = 0.0067\n",
      "Epsilon: 0.1\tTest Accuracy = 251 / 10000 = 0.0251\n",
      "Epsilon: 0.15\tTest Accuracy = 720 / 10000 = 0.072\n",
      "Epsilon: 0.2\tTest Accuracy = 1633 / 10000 = 0.1633\n",
      "Epsilon: 0.25\tTest Accuracy = 2852 / 10000 = 0.2852\n",
      "Epsilon: 0.3\tTest Accuracy = 3996 / 10000 = 0.3996\n"
     ]
    },
    {
     "data": {
      "image/png": "[encoded data removed]",
      "text/plain": [
       "<Figure size 360x360 with 1 Axes>"
      ]
     },
     "metadata": {
      "needs_background": "light",
      "tags": []
     },
     "output_type": "display_data"
    },
    {
     "name": "stdout",
     "output_type": "stream",
     "text": [
      "\n",
      " Running digit=6 slope=0.5 ... \n",
      "Epsilon: 0\tTest Accuracy = 0 / 10000 = 0.0\n",
      "Epsilon: 0.05\tTest Accuracy = 86 / 10000 = 0.0086\n",
      "Epsilon: 0.1\tTest Accuracy = 126 / 10000 = 0.0126\n",
      "Epsilon: 0.15\tTest Accuracy = 154 / 10000 = 0.0154\n",
      "Epsilon: 0.2\tTest Accuracy = 174 / 10000 = 0.0174\n",
      "Epsilon: 0.25\tTest Accuracy = 190 / 10000 = 0.019\n",
      "Epsilon: 0.3\tTest Accuracy = 207 / 10000 = 0.0207\n",
      "\n",
      " Running digit=6 slope=1 ... \n",
      "Epsilon: 0\tTest Accuracy = 0 / 10000 = 0.0\n",
      "Epsilon: 0.05\tTest Accuracy = 52 / 10000 = 0.0052\n",
      "Epsilon: 0.1\tTest Accuracy = 180 / 10000 = 0.018\n",
      "Epsilon: 0.15\tTest Accuracy = 423 / 10000 = 0.0423\n",
      "Epsilon: 0.2\tTest Accuracy = 871 / 10000 = 0.0871\n",
      "Epsilon: 0.25\tTest Accuracy = 1542 / 10000 = 0.1542\n",
      "Epsilon: 0.3\tTest Accuracy = 2249 / 10000 = 0.2249\n",
      "\n",
      " Running digit=6 slope=2 ... \n",
      "Epsilon: 0\tTest Accuracy = 0 / 10000 = 0.0\n",
      "Epsilon: 0.05\tTest Accuracy = 90 / 10000 = 0.009\n",
      "Epsilon: 0.1\tTest Accuracy = 255 / 10000 = 0.0255\n",
      "Epsilon: 0.15\tTest Accuracy = 587 / 10000 = 0.0587\n",
      "Epsilon: 0.2\tTest Accuracy = 1283 / 10000 = 0.1283\n",
      "Epsilon: 0.25\tTest Accuracy = 2292 / 10000 = 0.2292\n",
      "Epsilon: 0.3\tTest Accuracy = 3383 / 10000 = 0.3383\n",
      "\n",
      " Running digit=6 slope=5 ... \n",
      "Epsilon: 0\tTest Accuracy = 0 / 10000 = 0.0\n",
      "Epsilon: 0.05\tTest Accuracy = 88 / 10000 = 0.0088\n",
      "Epsilon: 0.1\tTest Accuracy = 267 / 10000 = 0.0267\n",
      "Epsilon: 0.15\tTest Accuracy = 638 / 10000 = 0.0638\n",
      "Epsilon: 0.2\tTest Accuracy = 1387 / 10000 = 0.1387\n",
      "Epsilon: 0.25\tTest Accuracy = 2507 / 10000 = 0.2507\n",
      "Epsilon: 0.3\tTest Accuracy = 3696 / 10000 = 0.3696\n",
      "\n",
      " Running digit=6 slope=10 ... \n",
      "Epsilon: 0\tTest Accuracy = 0 / 10000 = 0.0\n",
      "Epsilon: 0.05\tTest Accuracy = 88 / 10000 = 0.0088\n",
      "Epsilon: 0.1\tTest Accuracy = 269 / 10000 = 0.0269\n",
      "Epsilon: 0.15\tTest Accuracy = 638 / 10000 = 0.0638\n",
      "Epsilon: 0.2\tTest Accuracy = 1393 / 10000 = 0.1393\n",
      "Epsilon: 0.25\tTest Accuracy = 2539 / 10000 = 0.2539\n",
      "Epsilon: 0.3\tTest Accuracy = 3707 / 10000 = 0.3707\n",
      "\n",
      " Running digit=6 slope=100 ... \n",
      "Epsilon: 0\tTest Accuracy = 0 / 10000 = 0.0\n",
      "Epsilon: 0.05\tTest Accuracy = 87 / 10000 = 0.0087\n",
      "Epsilon: 0.1\tTest Accuracy = 267 / 10000 = 0.0267\n",
      "Epsilon: 0.15\tTest Accuracy = 639 / 10000 = 0.0639\n",
      "Epsilon: 0.2\tTest Accuracy = 1393 / 10000 = 0.1393\n",
      "Epsilon: 0.25\tTest Accuracy = 2539 / 10000 = 0.2539\n",
      "Epsilon: 0.3\tTest Accuracy = 3717 / 10000 = 0.3717\n"
     ]
    },
    {
     "data": {
      "image/png": "[encoded data removed]",
      "text/plain": [
       "<Figure size 360x360 with 1 Axes>"
      ]
     },
     "metadata": {
      "needs_background": "light",
      "tags": []
     },
     "output_type": "display_data"
    },
    {
     "name": "stdout",
     "output_type": "stream",
     "text": [
      "\n",
      " Running digit=7 slope=0.5 ... \n",
      "Epsilon: 0\tTest Accuracy = 0 / 10000 = 0.0\n",
      "Epsilon: 0.05\tTest Accuracy = 91 / 10000 = 0.0091\n",
      "Epsilon: 0.1\tTest Accuracy = 139 / 10000 = 0.0139\n",
      "Epsilon: 0.15\tTest Accuracy = 178 / 10000 = 0.0178\n",
      "Epsilon: 0.2\tTest Accuracy = 245 / 10000 = 0.0245\n",
      "Epsilon: 0.25\tTest Accuracy = 403 / 10000 = 0.0403\n",
      "Epsilon: 0.3\tTest Accuracy = 579 / 10000 = 0.0579\n",
      "\n",
      " Running digit=7 slope=1 ... \n",
      "Epsilon: 0\tTest Accuracy = 0 / 10000 = 0.0\n",
      "Epsilon: 0.05\tTest Accuracy = 62 / 10000 = 0.0062\n",
      "Epsilon: 0.1\tTest Accuracy = 155 / 10000 = 0.0155\n",
      "Epsilon: 0.15\tTest Accuracy = 449 / 10000 = 0.0449\n",
      "Epsilon: 0.2\tTest Accuracy = 1072 / 10000 = 0.1072\n",
      "Epsilon: 0.25\tTest Accuracy = 1722 / 10000 = 0.1722\n",
      "Epsilon: 0.3\tTest Accuracy = 1996 / 10000 = 0.1996\n",
      "\n",
      " Running digit=7 slope=2 ... \n",
      "Epsilon: 0\tTest Accuracy = 0 / 10000 = 0.0\n",
      "Epsilon: 0.05\tTest Accuracy = 65 / 10000 = 0.0065\n",
      "Epsilon: 0.1\tTest Accuracy = 183 / 10000 = 0.0183\n",
      "Epsilon: 0.15\tTest Accuracy = 480 / 10000 = 0.048\n",
      "Epsilon: 0.2\tTest Accuracy = 1187 / 10000 = 0.1187\n",
      "Epsilon: 0.25\tTest Accuracy = 1963 / 10000 = 0.1963\n"
     ]
    }
   ],
   "source": [
    "epsilons = [0, .05, .1, .15, .2, .25, .3]\n",
    "slopes   = [.5, 1, 2, 5, 10, 100]\n",
    "symbs = ['*-', 'o-', 's-', 'd-', '+-', 'x-', '^-', '<-']\n",
    "\n",
    "\n",
    "all_all_accuracies = []\n",
    "\n",
    "for num in range(10):\n",
    "\n",
    "    all_accuracies = []\n",
    "    all_examples = []\n",
    "\n",
    "    # Run test for each slope\n",
    "    for sl in slopes:\n",
    "        print(f'\\n Running digit={num} slope={sl} ... ')\n",
    "        # Initialize the network\n",
    "        model = NetTest(sl).to(device)\n",
    "\n",
    "        # Load the pretrained model\n",
    "        model.load_state_dict(torch.load(pretrained_model, map_location='cpu'))\n",
    "\n",
    "        # Set the model in evaluation mode. In this case this is for the Dropout layers\n",
    "        model.eval()\n",
    "\n",
    "        # Run test for each epsilon\n",
    "        def_accuracies = []\n",
    "        def_examples = []\n",
    "    #     myTarget = torch.tensor([2])    \n",
    "        for eps in epsilons:\n",
    "            myTarget = torch.tensor([num]) #torch.randint(10, (1,1)).squeeze(0)        \n",
    "    #         myTarget = torch.randint(10, (1,1)).squeeze(0)                \n",
    "            acc, ex = test(model, device, test_loader, eps, myTarget)\n",
    "            def_accuracies.append(acc)\n",
    "#             def_examples.append(ex)\n",
    "\n",
    "        all_accuracies.append(def_accuracies)\n",
    "#         all_examples.append(def_examples)\n",
    "\n",
    "    all_all_accuracies.append(all_accuracies)\n",
    "    \n",
    "    all_accuracies = np.array(all_accuracies)\n",
    "    # all_accuracies = all_accuracies.T    \n",
    "    fig =plt.figure(figsize=(5,5))\n",
    "    for idx in range(len(all_accuracies)):\n",
    "        plt.plot(all_accuracies[idx,:], symbs[idx])\n",
    "\n",
    "    #     plt.plot(epsilons, np.array(all_accuracies).T, \"*-\")\n",
    "    plt.yticks(np.arange(0, .7, step=0.1))\n",
    "    plt.xticks(np.arange(0, len(epsilons), step=1), epsilons)\n",
    "    plt.title(f\"Accuracy vs Epsilon (converting to {num})\")\n",
    "    plt.xlabel(\"Epsilon\")\n",
    "    plt.ylabel(\"Accuracy\")\n",
    "    plt.legend(slopes)\n",
    "    plt.show()\n",
    "    fig.savefig(f'/gdrive/My Drive/ReLU_defense/Tmp/Targeted/plot-{num}.png')\n",
    "\n",
    "np.save(all_all_accuracies,'/gdrive/My Drive/ReLU_defense/Tmp/accs_MNIST_targeted.npy')\n"
   ]
  },
  {
   "cell_type": "code",
   "execution_count": null,
   "metadata": {
    "colab": {
     "base_uri": "https://localhost:8080/",
     "height": 164
    },
    "colab_type": "code",
    "id": "WBZzagfXi5sA",
    "outputId": "9f63bc4d-004a-4234-f950-f3be19ac6e91"
   },
   "outputs": [
    {
     "ename": "NameError",
     "evalue": "ignored",
     "output_type": "error",
     "traceback": [
      "\u001b[0;31m---------------------------------------------------------------------------\u001b[0m",
      "\u001b[0;31mNameError\u001b[0m                                 Traceback (most recent call last)",
      "\u001b[0;32m<ipython-input-1-37b3b5c5e2a9>\u001b[0m in \u001b[0;36m<module>\u001b[0;34m()\u001b[0m\n\u001b[0;32m----> 1\u001b[0;31m \u001b[0mrange\u001b[0m\u001b[0;34m(\u001b[0m\u001b[0mlen\u001b[0m\u001b[0;34m(\u001b[0m\u001b[0mall_accuracies\u001b[0m\u001b[0;34m)\u001b[0m\u001b[0;34m)\u001b[0m\u001b[0;34m\u001b[0m\u001b[0;34m\u001b[0m\u001b[0m\n\u001b[0m",
      "\u001b[0;31mNameError\u001b[0m: name 'all_accuracies' is not defined"
     ]
    }
   ],
   "source": [
    "range(len(all_accuracies))"
   ]
  },
  {
   "cell_type": "code",
   "execution_count": 22,
   "metadata": {
    "colab": {
     "base_uri": "https://localhost:8080/",
     "height": 34
    },
    "colab_type": "code",
    "id": "FUMVJyAfi8P5",
    "outputId": "3fa45d22-36e8-4eff-cc1d-7fccacc54e9e"
   },
   "outputs": [
    {
     "name": "stdout",
     "output_type": "stream",
     "text": [
      "'Getting started.pdf'   ReLU_defense\n"
     ]
    }
   ],
   "source": [
    "!ls '/gdrive/My Drive'"
   ]
  },
  {
   "cell_type": "code",
   "execution_count": null,
   "metadata": {
    "colab": {
     "base_uri": "https://localhost:8080/",
     "height": 181
    },
    "colab_type": "code",
    "id": "4KyL6GZzKVpU",
    "outputId": "4deb6957-31c1-4e2f-ed7b-051918c927ed"
   },
   "outputs": [
    {
     "ename": "NameError",
     "evalue": "ignored",
     "output_type": "error",
     "traceback": [
      "\u001b[0;31m---------------------------------------------------------------------------\u001b[0m",
      "\u001b[0;31mNameError\u001b[0m                                 Traceback (most recent call last)",
      "\u001b[0;32m<ipython-input-2-1cf0ef48bfe3>\u001b[0m in \u001b[0;36m<module>\u001b[0;34m()\u001b[0m\n\u001b[0;32m----> 1\u001b[0;31m \u001b[0mall_res\u001b[0m \u001b[0;34m=\u001b[0m \u001b[0mnp\u001b[0m\u001b[0;34m.\u001b[0m\u001b[0marray\u001b[0m\u001b[0;34m(\u001b[0m\u001b[0mall_all_accuracies\u001b[0m\u001b[0;34m)\u001b[0m\u001b[0;34m\u001b[0m\u001b[0;34m\u001b[0m\u001b[0m\n\u001b[0m\u001b[1;32m      2\u001b[0m \u001b[0mall_res_m\u001b[0m \u001b[0;34m=\u001b[0m \u001b[0mall_res\u001b[0m\u001b[0;34m.\u001b[0m\u001b[0mmean\u001b[0m\u001b[0;34m(\u001b[0m\u001b[0maxis\u001b[0m\u001b[0;34m=\u001b[0m\u001b[0;36m0\u001b[0m\u001b[0;34m)\u001b[0m\u001b[0;34m.\u001b[0m\u001b[0mT\u001b[0m\u001b[0;34m\u001b[0m\u001b[0;34m\u001b[0m\u001b[0m\n",
      "\u001b[0;31mNameError\u001b[0m: name 'all_all_accuracies' is not defined"
     ]
    }
   ],
   "source": [
    "all_res = np.array(all_all_accuracies)\n",
    "all_res_m = all_res.mean(axis=0).T"
   ]
  },
  {
   "cell_type": "code",
   "execution_count": null,
   "metadata": {
    "colab": {
     "base_uri": "https://localhost:8080/",
     "height": 1000
    },
    "colab_type": "code",
    "id": "Yyty8kqw1yPm",
    "outputId": "a9787694-6188-4737-aa24-c8399a8919ed"
   },
   "outputs": [
    {
     "data": {
      "image/png": "[encoded data removed]",
      "text/plain": [
       "<Figure size 360x360 with 1 Axes>"
      ]
     },
     "metadata": {
      "needs_background": "light",
      "tags": []
     },
     "output_type": "display_data"
    },
    {
     "data": {
      "image/png": "[encoded data removed]",
      "text/plain": [
       "<Figure size 360x360 with 1 Axes>"
      ]
     },
     "metadata": {
      "needs_background": "light",
      "tags": []
     },
     "output_type": "display_data"
    },
    {
     "data": {
      "image/png": "[encoded data removed]",
      "text/plain": [
       "<Figure size 360x360 with 1 Axes>"
      ]
     },
     "metadata": {
      "needs_background": "light",
      "tags": []
     },
     "output_type": "display_data"
    },
    {
     "data": {
      "image/png": "[encoded data removed]",
      "text/plain": [
       "<Figure size 360x360 with 1 Axes>"
      ]
     },
     "metadata": {
      "needs_background": "light",
      "tags": []
     },
     "output_type": "display_data"
    },
    {
     "data": {
      "image/png": "[encoded data removed]",
      "text/plain": [
       "<Figure size 360x360 with 1 Axes>"
      ]
     },
     "metadata": {
      "needs_background": "light",
      "tags": []
     },
     "output_type": "display_data"
    },
    {
     "data": {
      "image/png": "[encoded data removed]",
      "text/plain": [
       "<Figure size 360x360 with 1 Axes>"
      ]
     },
     "metadata": {
      "needs_background": "light",
      "tags": []
     },
     "output_type": "display_data"
    }
   ],
   "source": [
    "fig =plt.figure(figsize=(5,5))\n",
    "for idx in range(1,len(all_res_m)):\n",
    "    plt.plot(all_res_m[:,idx], symbs[idx])\n",
    "\n",
    "#     plt.plot(epsilons, np.array(all_accuracies).T, \"*-\")\n",
    "plt.yticks(np.arange(0, .7, step=0.1))\n",
    "plt.xticks(np.arange(0, 7, step=1), epsilons)\n",
    "plt.title(f\"Accuracy vs Epsilon (Avg. over digits)\")\n",
    "plt.xlabel(\"Epsilon\")\n",
    "plt.ylabel(\"Accuracy\")\n",
    "plt.legend(slopes[1:])\n",
    "plt.show()\n",
    "fig.savefig(f'avg.png')\n"
   ]
  },
  {
   "cell_type": "code",
   "execution_count": null,
   "metadata": {
    "colab": {},
    "colab_type": "code",
    "id": "ODmLXirXtkXk"
   },
   "outputs": [],
   "source": [
    "torch.save(all_all_accuracies,'/gdrive/My Drive/Tmp/accs_MNISTz.npy')"
   ]
  },
  {
   "cell_type": "code",
   "execution_count": null,
   "metadata": {
    "colab": {},
    "colab_type": "code",
    "id": "mUbaiPZAH74r"
   },
   "outputs": [],
   "source": [
    "\n"
   ]
  },
  {
   "cell_type": "code",
   "execution_count": null,
   "metadata": {
    "colab": {},
    "colab_type": "code",
    "id": "WQ5XZTlq6rEN"
   },
   "outputs": [],
   "source": []
  },
  {
   "cell_type": "code",
   "execution_count": null,
   "metadata": {
    "colab": {
     "base_uri": "https://localhost:8080/",
     "height": 34
    },
    "colab_type": "code",
    "id": "UNb9Y3AP6rGN",
    "outputId": "c08c2ae2-2dde-4417-87a8-7405093ddd73"
   },
   "outputs": [
    {
     "name": "stdout",
     "output_type": "stream",
     "text": [
      "Epsilon: 0.2\tTest Accuracy = 871 / 10000 = 0.0871\n"
     ]
    }
   ],
   "source": [
    "model = NetTest(1).to(device)\n",
    "model.load_state_dict(torch.load(pretrained_model, map_location='cpu'))\n",
    "model.eval()\n",
    "\n",
    "# Run test for each epsilon\n",
    "def_accuracies = []\n",
    "def_examples = []\n",
    "\n",
    "eps = .2\n",
    "\n",
    "myTarget = torch.tensor([6]) #torch.randint(10, (1,1)).squeeze(0)        \n",
    "acc, ex = test(model, device, test_loader, eps, myTarget)\n",
    "def_accuracies.append(acc)\n",
    "def_examples.append(ex)\n",
    "\n",
    "    \n",
    "    "
   ]
  },
  {
   "cell_type": "code",
   "execution_count": null,
   "metadata": {
    "colab": {
     "base_uri": "https://localhost:8080/",
     "height": 146
    },
    "colab_type": "code",
    "id": "dfUghgM06tsW",
    "outputId": "f72d14a1-e4b2-461d-c796-2cc006c6d749"
   },
   "outputs": [
    {
     "data": {
      "image/png": "[encoded data removed]",
      "text/plain": [
       "<Figure size 576x720 with 5 Axes>"
      ]
     },
     "metadata": {
      "tags": []
     },
     "output_type": "display_data"
    }
   ],
   "source": [
    "# Plot several examples of adversarial samples at each epsilon\n",
    "cnt = 0\n",
    "plt.figure(figsize=(8,10))\n",
    "for j in range(len(def_examples[0])):\n",
    "    cnt += 1\n",
    "    if len(def_examples[0]) ==1:\n",
    "        continue\n",
    "    plt.subplot(1,len(def_examples[0]),cnt)\n",
    "    plt.xticks([], [])\n",
    "    plt.yticks([], [])\n",
    "    if j == 0:\n",
    "        plt.ylabel(\"Eps: {}\".format(eps), fontsize=14)\n",
    "    orig,adv,ex = def_examples[0][j]\n",
    "    plt.title(\"{} -> {}\".format(orig, adv))\n",
    "    plt.imshow(ex, cmap=\"gray\")\n",
    "plt.tight_layout()\n",
    "plt.show()"
   ]
  },
  {
   "cell_type": "code",
   "execution_count": null,
   "metadata": {
    "colab": {},
    "colab_type": "code",
    "id": "pQG9wLLB7D6_"
   },
   "outputs": [],
   "source": []
  }
 ],
 "metadata": {
  "accelerator": "GPU",
  "colab": {
   "name": "ReLUdefenseTargeted.ipynb",
   "provenance": []
  },
  "kernelspec": {
   "display_name": "Python 3",
   "language": "python",
   "name": "python3"
  },
  "language_info": {
   "codemirror_mode": {
    "name": "ipython",
    "version": 3
   },
   "file_extension": ".py",
   "mimetype": "text/x-python",
   "name": "python",
   "nbconvert_exporter": "python",
   "pygments_lexer": "ipython3",
   "version": "3.7.3"
  },
  "widgets": {
   "application/vnd.jupyter.widget-state+json": {
    "02c54738c35246ad97c64acbbfd5740f": {
     "model_module": "@jupyter-widgets/base",
     "model_name": "LayoutModel",
     "state": {
      "_model_module": "@jupyter-widgets/base",
      "_model_module_version": "1.2.0",
      "_model_name": "LayoutModel",
      "_view_count": null,
      "_view_module": "@jupyter-widgets/base",
      "_view_module_version": "1.2.0",
      "_view_name": "LayoutView",
      "align_content": null,
      "align_items": null,
      "align_self": null,
      "border": null,
      "bottom": null,
      "display": null,
      "flex": null,
      "flex_flow": null,
      "grid_area": null,
      "grid_auto_columns": null,
      "grid_auto_flow": null,
      "grid_auto_rows": null,
      "grid_column": null,
      "grid_gap": null,
      "grid_row": null,
      "grid_template_areas": null,
      "grid_template_columns": null,
      "grid_template_rows": null,
      "height": null,
      "justify_content": null,
      "justify_items": null,
      "left": null,
      "margin": null,
      "max_height": null,
      "max_width": null,
      "min_height": null,
      "min_width": null,
      "object_fit": null,
      "object_position": null,
      "order": null,
      "overflow": null,
      "overflow_x": null,
      "overflow_y": null,
      "padding": null,
      "right": null,
      "top": null,
      "visibility": null,
      "width": null
     }
    },
    "0528004d5dd64af9be6370f5466d6375": {
     "model_module": "@jupyter-widgets/controls",
     "model_name": "DescriptionStyleModel",
     "state": {
      "_model_module": "@jupyter-widgets/controls",
      "_model_module_version": "1.5.0",
      "_model_name": "DescriptionStyleModel",
      "_view_count": null,
      "_view_module": "@jupyter-widgets/base",
      "_view_module_version": "1.2.0",
      "_view_name": "StyleView",
      "description_width": ""
     }
    },
    "12a75047537a4b99a08792336a85f286": {
     "model_module": "@jupyter-widgets/base",
     "model_name": "LayoutModel",
     "state": {
      "_model_module": "@jupyter-widgets/base",
      "_model_module_version": "1.2.0",
      "_model_name": "LayoutModel",
      "_view_count": null,
      "_view_module": "@jupyter-widgets/base",
      "_view_module_version": "1.2.0",
      "_view_name": "LayoutView",
      "align_content": null,
      "align_items": null,
      "align_self": null,
      "border": null,
      "bottom": null,
      "display": null,
      "flex": null,
      "flex_flow": null,
      "grid_area": null,
      "grid_auto_columns": null,
      "grid_auto_flow": null,
      "grid_auto_rows": null,
      "grid_column": null,
      "grid_gap": null,
      "grid_row": null,
      "grid_template_areas": null,
      "grid_template_columns": null,
      "grid_template_rows": null,
      "height": null,
      "justify_content": null,
      "justify_items": null,
      "left": null,
      "margin": null,
      "max_height": null,
      "max_width": null,
      "min_height": null,
      "min_width": null,
      "object_fit": null,
      "object_position": null,
      "order": null,
      "overflow": null,
      "overflow_x": null,
      "overflow_y": null,
      "padding": null,
      "right": null,
      "top": null,
      "visibility": null,
      "width": null
     }
    },
    "17c74d2632cb47ff8f8d968565dc1d00": {
     "model_module": "@jupyter-widgets/base",
     "model_name": "LayoutModel",
     "state": {
      "_model_module": "@jupyter-widgets/base",
      "_model_module_version": "1.2.0",
      "_model_name": "LayoutModel",
      "_view_count": null,
      "_view_module": "@jupyter-widgets/base",
      "_view_module_version": "1.2.0",
      "_view_name": "LayoutView",
      "align_content": null,
      "align_items": null,
      "align_self": null,
      "border": null,
      "bottom": null,
      "display": null,
      "flex": null,
      "flex_flow": null,
      "grid_area": null,
      "grid_auto_columns": null,
      "grid_auto_flow": null,
      "grid_auto_rows": null,
      "grid_column": null,
      "grid_gap": null,
      "grid_row": null,
      "grid_template_areas": null,
      "grid_template_columns": null,
      "grid_template_rows": null,
      "height": null,
      "justify_content": null,
      "justify_items": null,
      "left": null,
      "margin": null,
      "max_height": null,
      "max_width": null,
      "min_height": null,
      "min_width": null,
      "object_fit": null,
      "object_position": null,
      "order": null,
      "overflow": null,
      "overflow_x": null,
      "overflow_y": null,
      "padding": null,
      "right": null,
      "top": null,
      "visibility": null,
      "width": null
     }
    },
    "19d7c442cad043c69727868723e98a2d": {
     "model_module": "@jupyter-widgets/base",
     "model_name": "LayoutModel",
     "state": {
      "_model_module": "@jupyter-widgets/base",
      "_model_module_version": "1.2.0",
      "_model_name": "LayoutModel",
      "_view_count": null,
      "_view_module": "@jupyter-widgets/base",
      "_view_module_version": "1.2.0",
      "_view_name": "LayoutView",
      "align_content": null,
      "align_items": null,
      "align_self": null,
      "border": null,
      "bottom": null,
      "display": null,
      "flex": null,
      "flex_flow": null,
      "grid_area": null,
      "grid_auto_columns": null,
      "grid_auto_flow": null,
      "grid_auto_rows": null,
      "grid_column": null,
      "grid_gap": null,
      "grid_row": null,
      "grid_template_areas": null,
      "grid_template_columns": null,
      "grid_template_rows": null,
      "height": null,
      "justify_content": null,
      "justify_items": null,
      "left": null,
      "margin": null,
      "max_height": null,
      "max_width": null,
      "min_height": null,
      "min_width": null,
      "object_fit": null,
      "object_position": null,
      "order": null,
      "overflow": null,
      "overflow_x": null,
      "overflow_y": null,
      "padding": null,
      "right": null,
      "top": null,
      "visibility": null,
      "width": null
     }
    },
    "1cb7a6ece8824da2a606227324d1b286": {
     "model_module": "@jupyter-widgets/base",
     "model_name": "LayoutModel",
     "state": {
      "_model_module": "@jupyter-widgets/base",
      "_model_module_version": "1.2.0",
      "_model_name": "LayoutModel",
      "_view_count": null,
      "_view_module": "@jupyter-widgets/base",
      "_view_module_version": "1.2.0",
      "_view_name": "LayoutView",
      "align_content": null,
      "align_items": null,
      "align_self": null,
      "border": null,
      "bottom": null,
      "display": null,
      "flex": null,
      "flex_flow": null,
      "grid_area": null,
      "grid_auto_columns": null,
      "grid_auto_flow": null,
      "grid_auto_rows": null,
      "grid_column": null,
      "grid_gap": null,
      "grid_row": null,
      "grid_template_areas": null,
      "grid_template_columns": null,
      "grid_template_rows": null,
      "height": null,
      "justify_content": null,
      "justify_items": null,
      "left": null,
      "margin": null,
      "max_height": null,
      "max_width": null,
      "min_height": null,
      "min_width": null,
      "object_fit": null,
      "object_position": null,
      "order": null,
      "overflow": null,
      "overflow_x": null,
      "overflow_y": null,
      "padding": null,
      "right": null,
      "top": null,
      "visibility": null,
      "width": null
     }
    },
    "305e1aa593fc4e758b92ffe3d312aacb": {
     "model_module": "@jupyter-widgets/base",
     "model_name": "LayoutModel",
     "state": {
      "_model_module": "@jupyter-widgets/base",
      "_model_module_version": "1.2.0",
      "_model_name": "LayoutModel",
      "_view_count": null,
      "_view_module": "@jupyter-widgets/base",
      "_view_module_version": "1.2.0",
      "_view_name": "LayoutView",
      "align_content": null,
      "align_items": null,
      "align_self": null,
      "border": null,
      "bottom": null,
      "display": null,
      "flex": null,
      "flex_flow": null,
      "grid_area": null,
      "grid_auto_columns": null,
      "grid_auto_flow": null,
      "grid_auto_rows": null,
      "grid_column": null,
      "grid_gap": null,
      "grid_row": null,
      "grid_template_areas": null,
      "grid_template_columns": null,
      "grid_template_rows": null,
      "height": null,
      "justify_content": null,
      "justify_items": null,
      "left": null,
      "margin": null,
      "max_height": null,
      "max_width": null,
      "min_height": null,
      "min_width": null,
      "object_fit": null,
      "object_position": null,
      "order": null,
      "overflow": null,
      "overflow_x": null,
      "overflow_y": null,
      "padding": null,
      "right": null,
      "top": null,
      "visibility": null,
      "width": null
     }
    },
    "3939b4b2956447468f6d5901557680a6": {
     "model_module": "@jupyter-widgets/controls",
     "model_name": "IntProgressModel",
     "state": {
      "_dom_classes": [],
      "_model_module": "@jupyter-widgets/controls",
      "_model_module_version": "1.5.0",
      "_model_name": "IntProgressModel",
      "_view_count": null,
      "_view_module": "@jupyter-widgets/controls",
      "_view_module_version": "1.5.0",
      "_view_name": "ProgressView",
      "bar_style": "info",
      "description": "  0%",
      "description_tooltip": null,
      "layout": "IPY_MODEL_60f2a0fc9d71435392210f23da1f8113",
      "max": 1,
      "min": 0,
      "orientation": "horizontal",
      "style": "IPY_MODEL_b82795cf45224076a6329fcec7128af5",
      "value": 0
     }
    },
    "485814693c78408e82a3c4e5ca92ba72": {
     "model_module": "@jupyter-widgets/controls",
     "model_name": "IntProgressModel",
     "state": {
      "_dom_classes": [],
      "_model_module": "@jupyter-widgets/controls",
      "_model_module_version": "1.5.0",
      "_model_name": "IntProgressModel",
      "_view_count": null,
      "_view_module": "@jupyter-widgets/controls",
      "_view_module_version": "1.5.0",
      "_view_name": "ProgressView",
      "bar_style": "info",
      "description": "",
      "description_tooltip": null,
      "layout": "IPY_MODEL_1cb7a6ece8824da2a606227324d1b286",
      "max": 1,
      "min": 0,
      "orientation": "horizontal",
      "style": "IPY_MODEL_ab58977381e04a2cbbd3a63c29055e3f",
      "value": 1
     }
    },
    "4ef62016a7a14638937c6f8d528d902a": {
     "model_module": "@jupyter-widgets/controls",
     "model_name": "ProgressStyleModel",
     "state": {
      "_model_module": "@jupyter-widgets/controls",
      "_model_module_version": "1.5.0",
      "_model_name": "ProgressStyleModel",
      "_view_count": null,
      "_view_module": "@jupyter-widgets/base",
      "_view_module_version": "1.2.0",
      "_view_name": "StyleView",
      "bar_color": null,
      "description_width": "initial"
     }
    },
    "5419b1d83a0c410d891de3a81f61a558": {
     "model_module": "@jupyter-widgets/controls",
     "model_name": "HTMLModel",
     "state": {
      "_dom_classes": [],
      "_model_module": "@jupyter-widgets/controls",
      "_model_module_version": "1.5.0",
      "_model_name": "HTMLModel",
      "_view_count": null,
      "_view_module": "@jupyter-widgets/controls",
      "_view_module_version": "1.5.0",
      "_view_name": "HTMLView",
      "description": "",
      "description_tooltip": null,
      "layout": "IPY_MODEL_12a75047537a4b99a08792336a85f286",
      "placeholder": "​",
      "style": "IPY_MODEL_d4050736189c46889a83f32b57b5b3c1",
      "value": " 0/4542 [00:00&lt;?, ?it/s]"
     }
    },
    "599517426bda4da385aebc88a2132ad5": {
     "model_module": "@jupyter-widgets/controls",
     "model_name": "ProgressStyleModel",
     "state": {
      "_model_module": "@jupyter-widgets/controls",
      "_model_module_version": "1.5.0",
      "_model_name": "ProgressStyleModel",
      "_view_count": null,
      "_view_module": "@jupyter-widgets/base",
      "_view_module_version": "1.2.0",
      "_view_name": "StyleView",
      "bar_color": null,
      "description_width": "initial"
     }
    },
    "6016e07df7a4491b9c3e6089dff5c986": {
     "model_module": "@jupyter-widgets/controls",
     "model_name": "HBoxModel",
     "state": {
      "_dom_classes": [],
      "_model_module": "@jupyter-widgets/controls",
      "_model_module_version": "1.5.0",
      "_model_name": "HBoxModel",
      "_view_count": null,
      "_view_module": "@jupyter-widgets/controls",
      "_view_module_version": "1.5.0",
      "_view_name": "HBoxView",
      "box_style": "",
      "children": [
       "IPY_MODEL_485814693c78408e82a3c4e5ca92ba72",
       "IPY_MODEL_cb1724f393424177b8d4d169bc8942f5"
      ],
      "layout": "IPY_MODEL_305e1aa593fc4e758b92ffe3d312aacb"
     }
    },
    "60f2a0fc9d71435392210f23da1f8113": {
     "model_module": "@jupyter-widgets/base",
     "model_name": "LayoutModel",
     "state": {
      "_model_module": "@jupyter-widgets/base",
      "_model_module_version": "1.2.0",
      "_model_name": "LayoutModel",
      "_view_count": null,
      "_view_module": "@jupyter-widgets/base",
      "_view_module_version": "1.2.0",
      "_view_name": "LayoutView",
      "align_content": null,
      "align_items": null,
      "align_self": null,
      "border": null,
      "bottom": null,
      "display": null,
      "flex": null,
      "flex_flow": null,
      "grid_area": null,
      "grid_auto_columns": null,
      "grid_auto_flow": null,
      "grid_auto_rows": null,
      "grid_column": null,
      "grid_gap": null,
      "grid_row": null,
      "grid_template_areas": null,
      "grid_template_columns": null,
      "grid_template_rows": null,
      "height": null,
      "justify_content": null,
      "justify_items": null,
      "left": null,
      "margin": null,
      "max_height": null,
      "max_width": null,
      "min_height": null,
      "min_width": null,
      "object_fit": null,
      "object_position": null,
      "order": null,
      "overflow": null,
      "overflow_x": null,
      "overflow_y": null,
      "padding": null,
      "right": null,
      "top": null,
      "visibility": null,
      "width": null
     }
    },
    "61cc434d46ff40ba8dbbd23253f43fac": {
     "model_module": "@jupyter-widgets/controls",
     "model_name": "IntProgressModel",
     "state": {
      "_dom_classes": [],
      "_model_module": "@jupyter-widgets/controls",
      "_model_module_version": "1.5.0",
      "_model_name": "IntProgressModel",
      "_view_count": null,
      "_view_module": "@jupyter-widgets/controls",
      "_view_module_version": "1.5.0",
      "_view_name": "ProgressView",
      "bar_style": "info",
      "description": "",
      "description_tooltip": null,
      "layout": "IPY_MODEL_19d7c442cad043c69727868723e98a2d",
      "max": 1,
      "min": 0,
      "orientation": "horizontal",
      "style": "IPY_MODEL_4ef62016a7a14638937c6f8d528d902a",
      "value": 1
     }
    },
    "633116c16b514412a082c707b21803fd": {
     "model_module": "@jupyter-widgets/controls",
     "model_name": "HBoxModel",
     "state": {
      "_dom_classes": [],
      "_model_module": "@jupyter-widgets/controls",
      "_model_module_version": "1.5.0",
      "_model_name": "HBoxModel",
      "_view_count": null,
      "_view_module": "@jupyter-widgets/controls",
      "_view_module_version": "1.5.0",
      "_view_name": "HBoxView",
      "box_style": "",
      "children": [
       "IPY_MODEL_61cc434d46ff40ba8dbbd23253f43fac",
       "IPY_MODEL_b966f36498dc49fb8674c6e11ade6cdd"
      ],
      "layout": "IPY_MODEL_c95fdfd7099445dfaa5c5bd50cfa4c80"
     }
    },
    "7fd91f1989384ecfa60827424443ab1c": {
     "model_module": "@jupyter-widgets/controls",
     "model_name": "DescriptionStyleModel",
     "state": {
      "_model_module": "@jupyter-widgets/controls",
      "_model_module_version": "1.5.0",
      "_model_name": "DescriptionStyleModel",
      "_view_count": null,
      "_view_module": "@jupyter-widgets/base",
      "_view_module_version": "1.2.0",
      "_view_name": "StyleView",
      "description_width": ""
     }
    },
    "8a2c178243604434b76913ec4fb8bddc": {
     "model_module": "@jupyter-widgets/base",
     "model_name": "LayoutModel",
     "state": {
      "_model_module": "@jupyter-widgets/base",
      "_model_module_version": "1.2.0",
      "_model_name": "LayoutModel",
      "_view_count": null,
      "_view_module": "@jupyter-widgets/base",
      "_view_module_version": "1.2.0",
      "_view_name": "LayoutView",
      "align_content": null,
      "align_items": null,
      "align_self": null,
      "border": null,
      "bottom": null,
      "display": null,
      "flex": null,
      "flex_flow": null,
      "grid_area": null,
      "grid_auto_columns": null,
      "grid_auto_flow": null,
      "grid_auto_rows": null,
      "grid_column": null,
      "grid_gap": null,
      "grid_row": null,
      "grid_template_areas": null,
      "grid_template_columns": null,
      "grid_template_rows": null,
      "height": null,
      "justify_content": null,
      "justify_items": null,
      "left": null,
      "margin": null,
      "max_height": null,
      "max_width": null,
      "min_height": null,
      "min_width": null,
      "object_fit": null,
      "object_position": null,
      "order": null,
      "overflow": null,
      "overflow_x": null,
      "overflow_y": null,
      "padding": null,
      "right": null,
      "top": null,
      "visibility": null,
      "width": null
     }
    },
    "903a1a33cdd840dba26ab0a8b3f39375": {
     "model_module": "@jupyter-widgets/controls",
     "model_name": "HTMLModel",
     "state": {
      "_dom_classes": [],
      "_model_module": "@jupyter-widgets/controls",
      "_model_module_version": "1.5.0",
      "_model_name": "HTMLModel",
      "_view_count": null,
      "_view_module": "@jupyter-widgets/controls",
      "_view_module_version": "1.5.0",
      "_view_name": "HTMLView",
      "description": "",
      "description_tooltip": null,
      "layout": "IPY_MODEL_8a2c178243604434b76913ec4fb8bddc",
      "placeholder": "​",
      "style": "IPY_MODEL_0528004d5dd64af9be6370f5466d6375",
      "value": " 32768/? [00:16&lt;00:00, 71202.23it/s]"
     }
    },
    "98c734857d364fb195c18681a871cadd": {
     "model_module": "@jupyter-widgets/controls",
     "model_name": "IntProgressModel",
     "state": {
      "_dom_classes": [],
      "_model_module": "@jupyter-widgets/controls",
      "_model_module_version": "1.5.0",
      "_model_name": "IntProgressModel",
      "_view_count": null,
      "_view_module": "@jupyter-widgets/controls",
      "_view_module_version": "1.5.0",
      "_view_name": "ProgressView",
      "bar_style": "info",
      "description": "",
      "description_tooltip": null,
      "layout": "IPY_MODEL_a7178d7cc424449aabc6258c822ae606",
      "max": 1,
      "min": 0,
      "orientation": "horizontal",
      "style": "IPY_MODEL_599517426bda4da385aebc88a2132ad5",
      "value": 1
     }
    },
    "a7178d7cc424449aabc6258c822ae606": {
     "model_module": "@jupyter-widgets/base",
     "model_name": "LayoutModel",
     "state": {
      "_model_module": "@jupyter-widgets/base",
      "_model_module_version": "1.2.0",
      "_model_name": "LayoutModel",
      "_view_count": null,
      "_view_module": "@jupyter-widgets/base",
      "_view_module_version": "1.2.0",
      "_view_name": "LayoutView",
      "align_content": null,
      "align_items": null,
      "align_self": null,
      "border": null,
      "bottom": null,
      "display": null,
      "flex": null,
      "flex_flow": null,
      "grid_area": null,
      "grid_auto_columns": null,
      "grid_auto_flow": null,
      "grid_auto_rows": null,
      "grid_column": null,
      "grid_gap": null,
      "grid_row": null,
      "grid_template_areas": null,
      "grid_template_columns": null,
      "grid_template_rows": null,
      "height": null,
      "justify_content": null,
      "justify_items": null,
      "left": null,
      "margin": null,
      "max_height": null,
      "max_width": null,
      "min_height": null,
      "min_width": null,
      "object_fit": null,
      "object_position": null,
      "order": null,
      "overflow": null,
      "overflow_x": null,
      "overflow_y": null,
      "padding": null,
      "right": null,
      "top": null,
      "visibility": null,
      "width": null
     }
    },
    "ab58977381e04a2cbbd3a63c29055e3f": {
     "model_module": "@jupyter-widgets/controls",
     "model_name": "ProgressStyleModel",
     "state": {
      "_model_module": "@jupyter-widgets/controls",
      "_model_module_version": "1.5.0",
      "_model_name": "ProgressStyleModel",
      "_view_count": null,
      "_view_module": "@jupyter-widgets/base",
      "_view_module_version": "1.2.0",
      "_view_name": "StyleView",
      "bar_color": null,
      "description_width": "initial"
     }
    },
    "afaa7b2b1cce41d3a266088707e3fdba": {
     "model_module": "@jupyter-widgets/controls",
     "model_name": "HBoxModel",
     "state": {
      "_dom_classes": [],
      "_model_module": "@jupyter-widgets/controls",
      "_model_module_version": "1.5.0",
      "_model_name": "HBoxModel",
      "_view_count": null,
      "_view_module": "@jupyter-widgets/controls",
      "_view_module_version": "1.5.0",
      "_view_name": "HBoxView",
      "box_style": "",
      "children": [
       "IPY_MODEL_98c734857d364fb195c18681a871cadd",
       "IPY_MODEL_903a1a33cdd840dba26ab0a8b3f39375"
      ],
      "layout": "IPY_MODEL_c23975450096406aadc3cd998ea2c531"
     }
    },
    "b82795cf45224076a6329fcec7128af5": {
     "model_module": "@jupyter-widgets/controls",
     "model_name": "ProgressStyleModel",
     "state": {
      "_model_module": "@jupyter-widgets/controls",
      "_model_module_version": "1.5.0",
      "_model_name": "ProgressStyleModel",
      "_view_count": null,
      "_view_module": "@jupyter-widgets/base",
      "_view_module_version": "1.2.0",
      "_view_name": "StyleView",
      "bar_color": null,
      "description_width": "initial"
     }
    },
    "b966f36498dc49fb8674c6e11ade6cdd": {
     "model_module": "@jupyter-widgets/controls",
     "model_name": "HTMLModel",
     "state": {
      "_dom_classes": [],
      "_model_module": "@jupyter-widgets/controls",
      "_model_module_version": "1.5.0",
      "_model_name": "HTMLModel",
      "_view_count": null,
      "_view_module": "@jupyter-widgets/controls",
      "_view_module_version": "1.5.0",
      "_view_name": "HTMLView",
      "description": "",
      "description_tooltip": null,
      "layout": "IPY_MODEL_02c54738c35246ad97c64acbbfd5740f",
      "placeholder": "​",
      "style": "IPY_MODEL_7fd91f1989384ecfa60827424443ab1c",
      "value": " 1654784/? [00:15&lt;00:00, 234435.25it/s]"
     }
    },
    "c23975450096406aadc3cd998ea2c531": {
     "model_module": "@jupyter-widgets/base",
     "model_name": "LayoutModel",
     "state": {
      "_model_module": "@jupyter-widgets/base",
      "_model_module_version": "1.2.0",
      "_model_name": "LayoutModel",
      "_view_count": null,
      "_view_module": "@jupyter-widgets/base",
      "_view_module_version": "1.2.0",
      "_view_name": "LayoutView",
      "align_content": null,
      "align_items": null,
      "align_self": null,
      "border": null,
      "bottom": null,
      "display": null,
      "flex": null,
      "flex_flow": null,
      "grid_area": null,
      "grid_auto_columns": null,
      "grid_auto_flow": null,
      "grid_auto_rows": null,
      "grid_column": null,
      "grid_gap": null,
      "grid_row": null,
      "grid_template_areas": null,
      "grid_template_columns": null,
      "grid_template_rows": null,
      "height": null,
      "justify_content": null,
      "justify_items": null,
      "left": null,
      "margin": null,
      "max_height": null,
      "max_width": null,
      "min_height": null,
      "min_width": null,
      "object_fit": null,
      "object_position": null,
      "order": null,
      "overflow": null,
      "overflow_x": null,
      "overflow_y": null,
      "padding": null,
      "right": null,
      "top": null,
      "visibility": null,
      "width": null
     }
    },
    "c95fdfd7099445dfaa5c5bd50cfa4c80": {
     "model_module": "@jupyter-widgets/base",
     "model_name": "LayoutModel",
     "state": {
      "_model_module": "@jupyter-widgets/base",
      "_model_module_version": "1.2.0",
      "_model_name": "LayoutModel",
      "_view_count": null,
      "_view_module": "@jupyter-widgets/base",
      "_view_module_version": "1.2.0",
      "_view_name": "LayoutView",
      "align_content": null,
      "align_items": null,
      "align_self": null,
      "border": null,
      "bottom": null,
      "display": null,
      "flex": null,
      "flex_flow": null,
      "grid_area": null,
      "grid_auto_columns": null,
      "grid_auto_flow": null,
      "grid_auto_rows": null,
      "grid_column": null,
      "grid_gap": null,
      "grid_row": null,
      "grid_template_areas": null,
      "grid_template_columns": null,
      "grid_template_rows": null,
      "height": null,
      "justify_content": null,
      "justify_items": null,
      "left": null,
      "margin": null,
      "max_height": null,
      "max_width": null,
      "min_height": null,
      "min_width": null,
      "object_fit": null,
      "object_position": null,
      "order": null,
      "overflow": null,
      "overflow_x": null,
      "overflow_y": null,
      "padding": null,
      "right": null,
      "top": null,
      "visibility": null,
      "width": null
     }
    },
    "cb1724f393424177b8d4d169bc8942f5": {
     "model_module": "@jupyter-widgets/controls",
     "model_name": "HTMLModel",
     "state": {
      "_dom_classes": [],
      "_model_module": "@jupyter-widgets/controls",
      "_model_module_version": "1.5.0",
      "_model_name": "HTMLModel",
      "_view_count": null,
      "_view_module": "@jupyter-widgets/controls",
      "_view_module_version": "1.5.0",
      "_view_name": "HTMLView",
      "description": "",
      "description_tooltip": null,
      "layout": "IPY_MODEL_f4456754b08f407192b9d5217e2d14cd",
      "placeholder": "​",
      "style": "IPY_MODEL_dbb388c6e9014587978fe3948b1ce387",
      "value": " 9920512/? [00:20&lt;00:00, 1217903.20it/s]"
     }
    },
    "d4050736189c46889a83f32b57b5b3c1": {
     "model_module": "@jupyter-widgets/controls",
     "model_name": "DescriptionStyleModel",
     "state": {
      "_model_module": "@jupyter-widgets/controls",
      "_model_module_version": "1.5.0",
      "_model_name": "DescriptionStyleModel",
      "_view_count": null,
      "_view_module": "@jupyter-widgets/base",
      "_view_module_version": "1.2.0",
      "_view_name": "StyleView",
      "description_width": ""
     }
    },
    "dbb388c6e9014587978fe3948b1ce387": {
     "model_module": "@jupyter-widgets/controls",
     "model_name": "DescriptionStyleModel",
     "state": {
      "_model_module": "@jupyter-widgets/controls",
      "_model_module_version": "1.5.0",
      "_model_name": "DescriptionStyleModel",
      "_view_count": null,
      "_view_module": "@jupyter-widgets/base",
      "_view_module_version": "1.2.0",
      "_view_name": "StyleView",
      "description_width": ""
     }
    },
    "f4456754b08f407192b9d5217e2d14cd": {
     "model_module": "@jupyter-widgets/base",
     "model_name": "LayoutModel",
     "state": {
      "_model_module": "@jupyter-widgets/base",
      "_model_module_version": "1.2.0",
      "_model_name": "LayoutModel",
      "_view_count": null,
      "_view_module": "@jupyter-widgets/base",
      "_view_module_version": "1.2.0",
      "_view_name": "LayoutView",
      "align_content": null,
      "align_items": null,
      "align_self": null,
      "border": null,
      "bottom": null,
      "display": null,
      "flex": null,
      "flex_flow": null,
      "grid_area": null,
      "grid_auto_columns": null,
      "grid_auto_flow": null,
      "grid_auto_rows": null,
      "grid_column": null,
      "grid_gap": null,
      "grid_row": null,
      "grid_template_areas": null,
      "grid_template_columns": null,
      "grid_template_rows": null,
      "height": null,
      "justify_content": null,
      "justify_items": null,
      "left": null,
      "margin": null,
      "max_height": null,
      "max_width": null,
      "min_height": null,
      "min_width": null,
      "object_fit": null,
      "object_position": null,
      "order": null,
      "overflow": null,
      "overflow_x": null,
      "overflow_y": null,
      "padding": null,
      "right": null,
      "top": null,
      "visibility": null,
      "width": null
     }
    },
    "fb2a48d37ca84016999ed2f96a6a739c": {
     "model_module": "@jupyter-widgets/controls",
     "model_name": "HBoxModel",
     "state": {
      "_dom_classes": [],
      "_model_module": "@jupyter-widgets/controls",
      "_model_module_version": "1.5.0",
      "_model_name": "HBoxModel",
      "_view_count": null,
      "_view_module": "@jupyter-widgets/controls",
      "_view_module_version": "1.5.0",
      "_view_name": "HBoxView",
      "box_style": "",
      "children": [
       "IPY_MODEL_3939b4b2956447468f6d5901557680a6",
       "IPY_MODEL_5419b1d83a0c410d891de3a81f61a558"
      ],
      "layout": "IPY_MODEL_17c74d2632cb47ff8f8d968565dc1d00"
     }
    }
   }
  }
 },
 "nbformat": 4,
 "nbformat_minor": 4
}
